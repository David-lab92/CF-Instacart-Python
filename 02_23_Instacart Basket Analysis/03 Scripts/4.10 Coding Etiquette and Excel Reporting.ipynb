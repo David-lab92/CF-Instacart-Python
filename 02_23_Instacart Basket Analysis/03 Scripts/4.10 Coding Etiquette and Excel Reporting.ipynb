{
 "cells": [
  {
   "cell_type": "markdown",
   "id": "15b063a0",
   "metadata": {},
   "source": [
    "# 4.10 Coding Etiquette and Excel Reporting"
   ]
  },
  {
   "cell_type": "markdown",
   "id": "8510b97a",
   "metadata": {},
   "source": [
    "### Table of Contents\n",
    "\n",
    "1. Importing libraries and data\n",
    "2. Addressing Personally Identifiable Information\n",
    "3. Creating a regional flag within the dataset\n",
    "4. Excluding low-activity customers\n",
    "5. Creating customer \"profile\" for targeted marketing purposes\n",
    "6. Visualizing \"profile\" distribution\n",
    "7. Looking for insights through the customer \"profile\" groups\n",
    "8. Comparing customer profiles with regions and departments\n"
   ]
  },
  {
   "cell_type": "markdown",
   "id": "1b5ed65f",
   "metadata": {},
   "source": [
    "### 1. Import the data set you exported in Exercise 4.9 into a new Jupyter notebook. This should be the merged version of your data that contains the new customers column."
   ]
  },
  {
   "cell_type": "code",
   "execution_count": 1,
   "id": "a50c3b05",
   "metadata": {},
   "outputs": [],
   "source": [
    "# Import libraries\n",
    "import pandas as pd\n",
    "import numpy as np\n",
    "import os\n",
    "import matplotlib.pyplot as plt\n",
    "import seaborn as sns\n",
    "import scipy"
   ]
  },
  {
   "cell_type": "code",
   "execution_count": 2,
   "id": "7ae76ccc",
   "metadata": {},
   "outputs": [
    {
     "name": "stdout",
     "output_type": "stream",
     "text": [
      "C:\\Users\\mavid\\OneDrive - Universidad Nacional de Colombia\\Weiterbildung\\Exercises\\Data_Inmersion\\Achivement4\\01_23_InstacartBasketAnalysis_CarlosBaena\n"
     ]
    }
   ],
   "source": [
    "#Creating a path for this project\n",
    "path = r'C:\\Users\\mavid\\OneDrive - Universidad Nacional de Colombia\\Weiterbildung\\Exercises\\Data_Inmersion\\Achivement4\\01_23_InstacartBasketAnalysis_CarlosBaena'\n",
    "print(path)"
   ]
  },
  {
   "cell_type": "code",
   "execution_count": 4,
   "id": "ce247181",
   "metadata": {},
   "outputs": [],
   "source": [
    "# Importing 'orders_products_merged.pkl' via pandas.pkl and os.path.join\n",
    "df_all = pd.read_pickle(os.path.join(path, '02 Data','Prepared Data', 'orders_products_all.pkl'))"
   ]
  },
  {
   "cell_type": "markdown",
   "id": "ff6a5f08",
   "metadata": {},
   "source": [
    "### 2. Consider any security implications that might exist for this new data. You’ll need to address any PII data in the data before continuing your analysis."
   ]
  },
  {
   "cell_type": "code",
   "execution_count": 7,
   "id": "81e5cc7f",
   "metadata": {},
   "outputs": [
    {
     "data": {
      "text/html": [
       "<div>\n",
       "<style scoped>\n",
       "    .dataframe tbody tr th:only-of-type {\n",
       "        vertical-align: middle;\n",
       "    }\n",
       "\n",
       "    .dataframe tbody tr th {\n",
       "        vertical-align: top;\n",
       "    }\n",
       "\n",
       "    .dataframe thead th {\n",
       "        text-align: right;\n",
       "    }\n",
       "</style>\n",
       "<table border=\"1\" class=\"dataframe\">\n",
       "  <thead>\n",
       "    <tr style=\"text-align: right;\">\n",
       "      <th></th>\n",
       "      <th>order_id</th>\n",
       "      <th>user_id</th>\n",
       "      <th>order_number</th>\n",
       "      <th>orders_day_of_week</th>\n",
       "      <th>order_hour_of_day</th>\n",
       "      <th>days_since_prior_order</th>\n",
       "      <th>product_id</th>\n",
       "      <th>add_to_cart_order</th>\n",
       "      <th>reordered</th>\n",
       "      <th>product_name</th>\n",
       "      <th>...</th>\n",
       "      <th>spending_flag</th>\n",
       "      <th>median_prior_orders</th>\n",
       "      <th>order_frequency_flag</th>\n",
       "      <th>gender</th>\n",
       "      <th>state</th>\n",
       "      <th>age</th>\n",
       "      <th>date_joined</th>\n",
       "      <th>number_dependants</th>\n",
       "      <th>family_status</th>\n",
       "      <th>income</th>\n",
       "    </tr>\n",
       "  </thead>\n",
       "  <tbody>\n",
       "    <tr>\n",
       "      <th>0</th>\n",
       "      <td>2539329</td>\n",
       "      <td>1</td>\n",
       "      <td>1</td>\n",
       "      <td>2</td>\n",
       "      <td>8</td>\n",
       "      <td>NaN</td>\n",
       "      <td>196</td>\n",
       "      <td>1</td>\n",
       "      <td>0</td>\n",
       "      <td>Soda</td>\n",
       "      <td>...</td>\n",
       "      <td>Low spender</td>\n",
       "      <td>20.5</td>\n",
       "      <td>Non-frequent customer</td>\n",
       "      <td>Female</td>\n",
       "      <td>Alabama</td>\n",
       "      <td>31</td>\n",
       "      <td>2/17/2019</td>\n",
       "      <td>3</td>\n",
       "      <td>married</td>\n",
       "      <td>40423</td>\n",
       "    </tr>\n",
       "    <tr>\n",
       "      <th>1</th>\n",
       "      <td>2398795</td>\n",
       "      <td>1</td>\n",
       "      <td>2</td>\n",
       "      <td>3</td>\n",
       "      <td>7</td>\n",
       "      <td>15.0</td>\n",
       "      <td>196</td>\n",
       "      <td>1</td>\n",
       "      <td>1</td>\n",
       "      <td>Soda</td>\n",
       "      <td>...</td>\n",
       "      <td>Low spender</td>\n",
       "      <td>20.5</td>\n",
       "      <td>Non-frequent customer</td>\n",
       "      <td>Female</td>\n",
       "      <td>Alabama</td>\n",
       "      <td>31</td>\n",
       "      <td>2/17/2019</td>\n",
       "      <td>3</td>\n",
       "      <td>married</td>\n",
       "      <td>40423</td>\n",
       "    </tr>\n",
       "    <tr>\n",
       "      <th>2</th>\n",
       "      <td>473747</td>\n",
       "      <td>1</td>\n",
       "      <td>3</td>\n",
       "      <td>3</td>\n",
       "      <td>12</td>\n",
       "      <td>21.0</td>\n",
       "      <td>196</td>\n",
       "      <td>1</td>\n",
       "      <td>1</td>\n",
       "      <td>Soda</td>\n",
       "      <td>...</td>\n",
       "      <td>Low spender</td>\n",
       "      <td>20.5</td>\n",
       "      <td>Non-frequent customer</td>\n",
       "      <td>Female</td>\n",
       "      <td>Alabama</td>\n",
       "      <td>31</td>\n",
       "      <td>2/17/2019</td>\n",
       "      <td>3</td>\n",
       "      <td>married</td>\n",
       "      <td>40423</td>\n",
       "    </tr>\n",
       "    <tr>\n",
       "      <th>3</th>\n",
       "      <td>2254736</td>\n",
       "      <td>1</td>\n",
       "      <td>4</td>\n",
       "      <td>4</td>\n",
       "      <td>7</td>\n",
       "      <td>29.0</td>\n",
       "      <td>196</td>\n",
       "      <td>1</td>\n",
       "      <td>1</td>\n",
       "      <td>Soda</td>\n",
       "      <td>...</td>\n",
       "      <td>Low spender</td>\n",
       "      <td>20.5</td>\n",
       "      <td>Non-frequent customer</td>\n",
       "      <td>Female</td>\n",
       "      <td>Alabama</td>\n",
       "      <td>31</td>\n",
       "      <td>2/17/2019</td>\n",
       "      <td>3</td>\n",
       "      <td>married</td>\n",
       "      <td>40423</td>\n",
       "    </tr>\n",
       "    <tr>\n",
       "      <th>4</th>\n",
       "      <td>431534</td>\n",
       "      <td>1</td>\n",
       "      <td>5</td>\n",
       "      <td>4</td>\n",
       "      <td>15</td>\n",
       "      <td>28.0</td>\n",
       "      <td>196</td>\n",
       "      <td>1</td>\n",
       "      <td>1</td>\n",
       "      <td>Soda</td>\n",
       "      <td>...</td>\n",
       "      <td>Low spender</td>\n",
       "      <td>20.5</td>\n",
       "      <td>Non-frequent customer</td>\n",
       "      <td>Female</td>\n",
       "      <td>Alabama</td>\n",
       "      <td>31</td>\n",
       "      <td>2/17/2019</td>\n",
       "      <td>3</td>\n",
       "      <td>married</td>\n",
       "      <td>40423</td>\n",
       "    </tr>\n",
       "  </tbody>\n",
       "</table>\n",
       "<p>5 rows × 31 columns</p>\n",
       "</div>"
      ],
      "text/plain": [
       "   order_id user_id  order_number  orders_day_of_week  order_hour_of_day  \\\n",
       "0   2539329       1             1                   2                  8   \n",
       "1   2398795       1             2                   3                  7   \n",
       "2    473747       1             3                   3                 12   \n",
       "3   2254736       1             4                   4                  7   \n",
       "4    431534       1             5                   4                 15   \n",
       "\n",
       "   days_since_prior_order  product_id  add_to_cart_order  reordered  \\\n",
       "0                     NaN         196                  1          0   \n",
       "1                    15.0         196                  1          1   \n",
       "2                    21.0         196                  1          1   \n",
       "3                    29.0         196                  1          1   \n",
       "4                    28.0         196                  1          1   \n",
       "\n",
       "  product_name  ...  spending_flag  median_prior_orders  \\\n",
       "0         Soda  ...    Low spender                 20.5   \n",
       "1         Soda  ...    Low spender                 20.5   \n",
       "2         Soda  ...    Low spender                 20.5   \n",
       "3         Soda  ...    Low spender                 20.5   \n",
       "4         Soda  ...    Low spender                 20.5   \n",
       "\n",
       "    order_frequency_flag  gender    state age date_joined number_dependants  \\\n",
       "0  Non-frequent customer  Female  Alabama  31   2/17/2019                 3   \n",
       "1  Non-frequent customer  Female  Alabama  31   2/17/2019                 3   \n",
       "2  Non-frequent customer  Female  Alabama  31   2/17/2019                 3   \n",
       "3  Non-frequent customer  Female  Alabama  31   2/17/2019                 3   \n",
       "4  Non-frequent customer  Female  Alabama  31   2/17/2019                 3   \n",
       "\n",
       "   family_status income  \n",
       "0        married  40423  \n",
       "1        married  40423  \n",
       "2        married  40423  \n",
       "3        married  40423  \n",
       "4        married  40423  \n",
       "\n",
       "[5 rows x 31 columns]"
      ]
     },
     "execution_count": 7,
     "metadata": {},
     "output_type": "execute_result"
    }
   ],
   "source": [
    "df_all.head()"
   ]
  },
  {
   "cell_type": "code",
   "execution_count": 5,
   "id": "e35dd918",
   "metadata": {},
   "outputs": [
    {
     "data": {
      "text/plain": [
       "(32404859, 31)"
      ]
     },
     "execution_count": 5,
     "metadata": {},
     "output_type": "execute_result"
    }
   ],
   "source": [
    "# Check shape of data frame\n",
    "df_all.shape"
   ]
  },
  {
   "cell_type": "code",
   "execution_count": 6,
   "id": "6958f51a",
   "metadata": {},
   "outputs": [
    {
     "data": {
      "text/plain": [
       "order_id                     int64\n",
       "user_id                     object\n",
       "order_number                 int64\n",
       "orders_day_of_week           int64\n",
       "order_hour_of_day            int64\n",
       "days_since_prior_order     float64\n",
       "product_id                   int64\n",
       "add_to_cart_order            int64\n",
       "reordered                    int64\n",
       "product_name                object\n",
       "aisle_id                     int64\n",
       "department_id                int64\n",
       "prices                     float64\n",
       "_merge                    category\n",
       "price_range_loc             object\n",
       "busiest_day                 object\n",
       "busiest_days                object\n",
       "busiest_period_of_day       object\n",
       "max_order                    int64\n",
       "loyalty_flag                object\n",
       "average_price              float64\n",
       "spending_flag               object\n",
       "median_prior_orders        float64\n",
       "order_frequency_flag        object\n",
       "gender                      object\n",
       "state                       object\n",
       "age                          int64\n",
       "date_joined                 object\n",
       "number_dependants            int64\n",
       "family_status               object\n",
       "income                       int64\n",
       "dtype: object"
      ]
     },
     "execution_count": 6,
     "metadata": {},
     "output_type": "execute_result"
    }
   ],
   "source": [
    "# Check data types\n",
    "df_all.dtypes"
   ]
  },
  {
   "cell_type": "markdown",
   "id": "e9f9cf13",
   "metadata": {},
   "source": [
    "#### A security concern of this dataset was the information related to name and surname. Nontheless, these columns were deleted in past exercise, due to that, they are not relevant for this specific project. In addition, user_id is more than enough to identify the different customers."
   ]
  },
  {
   "cell_type": "markdown",
   "id": "8861bf9d",
   "metadata": {},
   "source": [
    "### 3. The Instacart officers are interested in comparing customer behavior in different geographic areas. Create a regional segmentation of the data. You’ll need to create a “Region” column based on the “State” column from your customers data set."
   ]
  },
  {
   "cell_type": "code",
   "execution_count": 8,
   "id": "7d80140a",
   "metadata": {},
   "outputs": [
    {
     "data": {
      "text/plain": [
       "Pennsylvania            667082\n",
       "California              659783\n",
       "Rhode Island            656913\n",
       "Georgia                 656389\n",
       "New Mexico              654494\n",
       "Arizona                 653964\n",
       "North Carolina          651900\n",
       "Oklahoma                651739\n",
       "Alaska                  648495\n",
       "Minnesota               647825\n",
       "Massachusetts           646358\n",
       "Wyoming                 644255\n",
       "Virginia                641421\n",
       "Missouri                640732\n",
       "Texas                   640394\n",
       "Colorado                639280\n",
       "Maine                   638583\n",
       "North Dakota            638491\n",
       "Alabama                 638003\n",
       "Kansas                  637538\n",
       "Louisiana               637482\n",
       "Delaware                637024\n",
       "South Carolina          636754\n",
       "Oregon                  636425\n",
       "Arkansas                636144\n",
       "Nevada                  636139\n",
       "New York                635983\n",
       "Montana                 635265\n",
       "South Dakota            633772\n",
       "Illinois                633024\n",
       "Hawaii                  632901\n",
       "Washington              632852\n",
       "Mississippi             632675\n",
       "Kentucky                632490\n",
       "Michigan                630928\n",
       "Florida                 629027\n",
       "Ohio                    628319\n",
       "Wisconsin               628108\n",
       "New Jersey              627692\n",
       "Indiana                 627282\n",
       "Maryland                626579\n",
       "Nebraska                625813\n",
       "Iowa                    625493\n",
       "Connecticut             623022\n",
       "Tennessee               617873\n",
       "New Hampshire           615378\n",
       "District of Columbia    613695\n",
       "West Virginia           612296\n",
       "Utah                    611941\n",
       "Vermont                 611725\n",
       "Idaho                   607119\n",
       "Name: state, dtype: int64"
      ]
     },
     "execution_count": 8,
     "metadata": {},
     "output_type": "execute_result"
    }
   ],
   "source": [
    "# Checking value counts for the state column\n",
    "df_all['state'].value_counts()"
   ]
  },
  {
   "cell_type": "markdown",
   "id": "215baf06",
   "metadata": {},
   "source": [
    "#### Creating containing vectors for the different states"
   ]
  },
  {
   "cell_type": "code",
   "execution_count": 9,
   "id": "b5448a93",
   "metadata": {},
   "outputs": [],
   "source": [
    "Northeast = ['Maine', 'New Hampshire', 'Vermont', 'Massachusetts', 'Rhode Island', 'Connecticut', 'New York', 'Pennsylvania', 'New Jersey']"
   ]
  },
  {
   "cell_type": "code",
   "execution_count": 10,
   "id": "7cd1252e",
   "metadata": {},
   "outputs": [],
   "source": [
    "Midwest = ['Wisconsin', 'Michigan', 'Illinois', 'Indiana', 'Ohio', 'North Dakota', 'South Dakota', 'Nebraska', 'Kansas', 'Minnesota', 'Iowa', 'Missouri']"
   ]
  },
  {
   "cell_type": "code",
   "execution_count": 11,
   "id": "ae7762d4",
   "metadata": {},
   "outputs": [],
   "source": [
    "South = ['Delaware', 'Maryland', 'District of Columbia', 'Virginia', 'West Virginia', 'North Carolina', 'South Carolina', 'Georgia', 'Florida', 'Kentucky',\n",
    "'Tennessee', 'Mississippi', 'Alabama', 'Oklahoma', 'Texas', 'Arkansas', 'Louisiana']"
   ]
  },
  {
   "cell_type": "code",
   "execution_count": 12,
   "id": "52f70ba1",
   "metadata": {},
   "outputs": [],
   "source": [
    "West = ['Idaho', 'Montana', 'Wyoming', 'Nevada', 'Utah', 'Colorado', 'Arizona', 'New Mexico', 'Alaska', 'Washington', 'Oregon', 'California', 'Hawaii']"
   ]
  },
  {
   "cell_type": "markdown",
   "id": "579483f3",
   "metadata": {},
   "source": [
    "#### Creating column region"
   ]
  },
  {
   "cell_type": "code",
   "execution_count": 13,
   "id": "b1b254b4",
   "metadata": {},
   "outputs": [],
   "source": [
    "df_all.loc[df_all['state'].isin(Northeast), 'region'] = 'Northeast'"
   ]
  },
  {
   "cell_type": "code",
   "execution_count": 14,
   "id": "0d1361b3",
   "metadata": {},
   "outputs": [],
   "source": [
    "df_all.loc[df_all['state'].isin(Midwest), 'region'] = 'Midwest'"
   ]
  },
  {
   "cell_type": "code",
   "execution_count": 15,
   "id": "763d380a",
   "metadata": {},
   "outputs": [],
   "source": [
    "df_all.loc[df_all['state'].isin(South), 'region'] = 'South'"
   ]
  },
  {
   "cell_type": "code",
   "execution_count": 18,
   "id": "850f01b5",
   "metadata": {},
   "outputs": [],
   "source": [
    "df_all.loc[df_all['state'].isin(West), 'region'] = 'West'"
   ]
  },
  {
   "cell_type": "markdown",
   "id": "969c78e6",
   "metadata": {},
   "source": [
    "#### Checking new column 'region'"
   ]
  },
  {
   "cell_type": "code",
   "execution_count": 19,
   "id": "9ca6aeab",
   "metadata": {},
   "outputs": [
    {
     "data": {
      "text/plain": [
       "South        10791885\n",
       "West          8292913\n",
       "Midwest       7597325\n",
       "Northeast     5722736\n",
       "Name: region, dtype: int64"
      ]
     },
     "execution_count": 19,
     "metadata": {},
     "output_type": "execute_result"
    }
   ],
   "source": [
    "df_all['region'].value_counts()"
   ]
  },
  {
   "cell_type": "code",
   "execution_count": 21,
   "id": "c45acef7",
   "metadata": {},
   "outputs": [
    {
     "data": {
      "text/html": [
       "<div>\n",
       "<style scoped>\n",
       "    .dataframe tbody tr th:only-of-type {\n",
       "        vertical-align: middle;\n",
       "    }\n",
       "\n",
       "    .dataframe tbody tr th {\n",
       "        vertical-align: top;\n",
       "    }\n",
       "\n",
       "    .dataframe thead th {\n",
       "        text-align: right;\n",
       "    }\n",
       "</style>\n",
       "<table border=\"1\" class=\"dataframe\">\n",
       "  <thead>\n",
       "    <tr style=\"text-align: right;\">\n",
       "      <th></th>\n",
       "      <th>order_id</th>\n",
       "      <th>user_id</th>\n",
       "      <th>order_number</th>\n",
       "      <th>orders_day_of_week</th>\n",
       "      <th>order_hour_of_day</th>\n",
       "      <th>days_since_prior_order</th>\n",
       "      <th>product_id</th>\n",
       "      <th>add_to_cart_order</th>\n",
       "      <th>reordered</th>\n",
       "      <th>product_name</th>\n",
       "      <th>...</th>\n",
       "      <th>median_prior_orders</th>\n",
       "      <th>order_frequency_flag</th>\n",
       "      <th>gender</th>\n",
       "      <th>state</th>\n",
       "      <th>age</th>\n",
       "      <th>date_joined</th>\n",
       "      <th>number_dependants</th>\n",
       "      <th>family_status</th>\n",
       "      <th>income</th>\n",
       "      <th>region</th>\n",
       "    </tr>\n",
       "  </thead>\n",
       "  <tbody>\n",
       "    <tr>\n",
       "      <th>0</th>\n",
       "      <td>2539329</td>\n",
       "      <td>1</td>\n",
       "      <td>1</td>\n",
       "      <td>2</td>\n",
       "      <td>8</td>\n",
       "      <td>NaN</td>\n",
       "      <td>196</td>\n",
       "      <td>1</td>\n",
       "      <td>0</td>\n",
       "      <td>Soda</td>\n",
       "      <td>...</td>\n",
       "      <td>20.5</td>\n",
       "      <td>Non-frequent customer</td>\n",
       "      <td>Female</td>\n",
       "      <td>Alabama</td>\n",
       "      <td>31</td>\n",
       "      <td>2/17/2019</td>\n",
       "      <td>3</td>\n",
       "      <td>married</td>\n",
       "      <td>40423</td>\n",
       "      <td>South</td>\n",
       "    </tr>\n",
       "    <tr>\n",
       "      <th>1</th>\n",
       "      <td>2398795</td>\n",
       "      <td>1</td>\n",
       "      <td>2</td>\n",
       "      <td>3</td>\n",
       "      <td>7</td>\n",
       "      <td>15.0</td>\n",
       "      <td>196</td>\n",
       "      <td>1</td>\n",
       "      <td>1</td>\n",
       "      <td>Soda</td>\n",
       "      <td>...</td>\n",
       "      <td>20.5</td>\n",
       "      <td>Non-frequent customer</td>\n",
       "      <td>Female</td>\n",
       "      <td>Alabama</td>\n",
       "      <td>31</td>\n",
       "      <td>2/17/2019</td>\n",
       "      <td>3</td>\n",
       "      <td>married</td>\n",
       "      <td>40423</td>\n",
       "      <td>South</td>\n",
       "    </tr>\n",
       "    <tr>\n",
       "      <th>2</th>\n",
       "      <td>473747</td>\n",
       "      <td>1</td>\n",
       "      <td>3</td>\n",
       "      <td>3</td>\n",
       "      <td>12</td>\n",
       "      <td>21.0</td>\n",
       "      <td>196</td>\n",
       "      <td>1</td>\n",
       "      <td>1</td>\n",
       "      <td>Soda</td>\n",
       "      <td>...</td>\n",
       "      <td>20.5</td>\n",
       "      <td>Non-frequent customer</td>\n",
       "      <td>Female</td>\n",
       "      <td>Alabama</td>\n",
       "      <td>31</td>\n",
       "      <td>2/17/2019</td>\n",
       "      <td>3</td>\n",
       "      <td>married</td>\n",
       "      <td>40423</td>\n",
       "      <td>South</td>\n",
       "    </tr>\n",
       "    <tr>\n",
       "      <th>3</th>\n",
       "      <td>2254736</td>\n",
       "      <td>1</td>\n",
       "      <td>4</td>\n",
       "      <td>4</td>\n",
       "      <td>7</td>\n",
       "      <td>29.0</td>\n",
       "      <td>196</td>\n",
       "      <td>1</td>\n",
       "      <td>1</td>\n",
       "      <td>Soda</td>\n",
       "      <td>...</td>\n",
       "      <td>20.5</td>\n",
       "      <td>Non-frequent customer</td>\n",
       "      <td>Female</td>\n",
       "      <td>Alabama</td>\n",
       "      <td>31</td>\n",
       "      <td>2/17/2019</td>\n",
       "      <td>3</td>\n",
       "      <td>married</td>\n",
       "      <td>40423</td>\n",
       "      <td>South</td>\n",
       "    </tr>\n",
       "    <tr>\n",
       "      <th>4</th>\n",
       "      <td>431534</td>\n",
       "      <td>1</td>\n",
       "      <td>5</td>\n",
       "      <td>4</td>\n",
       "      <td>15</td>\n",
       "      <td>28.0</td>\n",
       "      <td>196</td>\n",
       "      <td>1</td>\n",
       "      <td>1</td>\n",
       "      <td>Soda</td>\n",
       "      <td>...</td>\n",
       "      <td>20.5</td>\n",
       "      <td>Non-frequent customer</td>\n",
       "      <td>Female</td>\n",
       "      <td>Alabama</td>\n",
       "      <td>31</td>\n",
       "      <td>2/17/2019</td>\n",
       "      <td>3</td>\n",
       "      <td>married</td>\n",
       "      <td>40423</td>\n",
       "      <td>South</td>\n",
       "    </tr>\n",
       "  </tbody>\n",
       "</table>\n",
       "<p>5 rows × 32 columns</p>\n",
       "</div>"
      ],
      "text/plain": [
       "   order_id user_id  order_number  orders_day_of_week  order_hour_of_day  \\\n",
       "0   2539329       1             1                   2                  8   \n",
       "1   2398795       1             2                   3                  7   \n",
       "2    473747       1             3                   3                 12   \n",
       "3   2254736       1             4                   4                  7   \n",
       "4    431534       1             5                   4                 15   \n",
       "\n",
       "   days_since_prior_order  product_id  add_to_cart_order  reordered  \\\n",
       "0                     NaN         196                  1          0   \n",
       "1                    15.0         196                  1          1   \n",
       "2                    21.0         196                  1          1   \n",
       "3                    29.0         196                  1          1   \n",
       "4                    28.0         196                  1          1   \n",
       "\n",
       "  product_name  ...  median_prior_orders   order_frequency_flag  gender  \\\n",
       "0         Soda  ...                 20.5  Non-frequent customer  Female   \n",
       "1         Soda  ...                 20.5  Non-frequent customer  Female   \n",
       "2         Soda  ...                 20.5  Non-frequent customer  Female   \n",
       "3         Soda  ...                 20.5  Non-frequent customer  Female   \n",
       "4         Soda  ...                 20.5  Non-frequent customer  Female   \n",
       "\n",
       "     state age date_joined number_dependants family_status  income region  \n",
       "0  Alabama  31   2/17/2019                 3       married   40423  South  \n",
       "1  Alabama  31   2/17/2019                 3       married   40423  South  \n",
       "2  Alabama  31   2/17/2019                 3       married   40423  South  \n",
       "3  Alabama  31   2/17/2019                 3       married   40423  South  \n",
       "4  Alabama  31   2/17/2019                 3       married   40423  South  \n",
       "\n",
       "[5 rows x 32 columns]"
      ]
     },
     "execution_count": 21,
     "metadata": {},
     "output_type": "execute_result"
    }
   ],
   "source": [
    "df_all.head()"
   ]
  },
  {
   "cell_type": "markdown",
   "id": "faa40e91",
   "metadata": {},
   "source": [
    "### Determine whether there's a difference in spending habits between the different U.S regions"
   ]
  },
  {
   "cell_type": "code",
   "execution_count": 22,
   "id": "657d38f3",
   "metadata": {},
   "outputs": [],
   "source": [
    "# Creating crosstab according to region and spending flag\n",
    "crosstab = pd.crosstab(df_all['region'], df_all['spending_flag'], dropna = False)"
   ]
  },
  {
   "cell_type": "code",
   "execution_count": 24,
   "id": "ea4961ad",
   "metadata": {},
   "outputs": [
    {
     "data": {
      "text/html": [
       "<div>\n",
       "<style scoped>\n",
       "    .dataframe tbody tr th:only-of-type {\n",
       "        vertical-align: middle;\n",
       "    }\n",
       "\n",
       "    .dataframe tbody tr th {\n",
       "        vertical-align: top;\n",
       "    }\n",
       "\n",
       "    .dataframe thead th {\n",
       "        text-align: right;\n",
       "    }\n",
       "</style>\n",
       "<table border=\"1\" class=\"dataframe\">\n",
       "  <thead>\n",
       "    <tr style=\"text-align: right;\">\n",
       "      <th>spending_flag</th>\n",
       "      <th>High spender</th>\n",
       "      <th>Low spender</th>\n",
       "    </tr>\n",
       "    <tr>\n",
       "      <th>region</th>\n",
       "      <th></th>\n",
       "      <th></th>\n",
       "    </tr>\n",
       "  </thead>\n",
       "  <tbody>\n",
       "    <tr>\n",
       "      <th>Midwest</th>\n",
       "      <td>29444</td>\n",
       "      <td>7567881</td>\n",
       "    </tr>\n",
       "    <tr>\n",
       "      <th>Northeast</th>\n",
       "      <td>18662</td>\n",
       "      <td>5704074</td>\n",
       "    </tr>\n",
       "    <tr>\n",
       "      <th>South</th>\n",
       "      <td>40905</td>\n",
       "      <td>10750980</td>\n",
       "    </tr>\n",
       "    <tr>\n",
       "      <th>West</th>\n",
       "      <td>31366</td>\n",
       "      <td>8261547</td>\n",
       "    </tr>\n",
       "  </tbody>\n",
       "</table>\n",
       "</div>"
      ],
      "text/plain": [
       "spending_flag  High spender  Low spender\n",
       "region                                  \n",
       "Midwest               29444      7567881\n",
       "Northeast             18662      5704074\n",
       "South                 40905     10750980\n",
       "West                  31366      8261547"
      ]
     },
     "execution_count": 24,
     "metadata": {},
     "output_type": "execute_result"
    }
   ],
   "source": [
    "crosstab"
   ]
  },
  {
   "cell_type": "markdown",
   "id": "d4a11e8a",
   "metadata": {},
   "source": [
    "##### There is a difference between the spending habits in the different regions. In general, there is a higher number low spender customers in all the areas. However, the south part presents the higher values in both cases. "
   ]
  },
  {
   "cell_type": "markdown",
   "id": "626fafa8",
   "metadata": {},
   "source": [
    "### 4 The Instacart CFO isn’t interested in customers who don’t generate much revenue for the app. Create an exclusion flag for low-activity customers (customers with less than 5 orders) and exclude them from the data. Make sure you export this sample."
   ]
  },
  {
   "cell_type": "code",
   "execution_count": 25,
   "id": "d91b46de",
   "metadata": {},
   "outputs": [],
   "source": [
    "# Creating an exclusion flag\n",
    "df_all.loc[df_all['max_order'] < 5, 'exclusion flag'] = 'low-activity'\n",
    "df_all.loc[df_all['max_order'] >= 5, 'exclusion flag'] = 'high-activity'"
   ]
  },
  {
   "cell_type": "code",
   "execution_count": 26,
   "id": "a1f5705b",
   "metadata": {},
   "outputs": [
    {
     "data": {
      "text/plain": [
       "high-activity    30964564\n",
       "low-activity      1440295\n",
       "Name: exclusion flag, dtype: int64"
      ]
     },
     "execution_count": 26,
     "metadata": {},
     "output_type": "execute_result"
    }
   ],
   "source": [
    "df_all['exclusion flag'].value_counts()"
   ]
  },
  {
   "cell_type": "code",
   "execution_count": 27,
   "id": "8c4befd8",
   "metadata": {},
   "outputs": [
    {
     "data": {
      "text/html": [
       "<div>\n",
       "<style scoped>\n",
       "    .dataframe tbody tr th:only-of-type {\n",
       "        vertical-align: middle;\n",
       "    }\n",
       "\n",
       "    .dataframe tbody tr th {\n",
       "        vertical-align: top;\n",
       "    }\n",
       "\n",
       "    .dataframe thead th {\n",
       "        text-align: right;\n",
       "    }\n",
       "</style>\n",
       "<table border=\"1\" class=\"dataframe\">\n",
       "  <thead>\n",
       "    <tr style=\"text-align: right;\">\n",
       "      <th></th>\n",
       "      <th>order_id</th>\n",
       "      <th>user_id</th>\n",
       "      <th>order_number</th>\n",
       "      <th>orders_day_of_week</th>\n",
       "      <th>order_hour_of_day</th>\n",
       "      <th>days_since_prior_order</th>\n",
       "      <th>product_id</th>\n",
       "      <th>add_to_cart_order</th>\n",
       "      <th>reordered</th>\n",
       "      <th>product_name</th>\n",
       "      <th>...</th>\n",
       "      <th>order_frequency_flag</th>\n",
       "      <th>gender</th>\n",
       "      <th>state</th>\n",
       "      <th>age</th>\n",
       "      <th>date_joined</th>\n",
       "      <th>number_dependants</th>\n",
       "      <th>family_status</th>\n",
       "      <th>income</th>\n",
       "      <th>region</th>\n",
       "      <th>exclusion flag</th>\n",
       "    </tr>\n",
       "  </thead>\n",
       "  <tbody>\n",
       "    <tr>\n",
       "      <th>0</th>\n",
       "      <td>2539329</td>\n",
       "      <td>1</td>\n",
       "      <td>1</td>\n",
       "      <td>2</td>\n",
       "      <td>8</td>\n",
       "      <td>NaN</td>\n",
       "      <td>196</td>\n",
       "      <td>1</td>\n",
       "      <td>0</td>\n",
       "      <td>Soda</td>\n",
       "      <td>...</td>\n",
       "      <td>Non-frequent customer</td>\n",
       "      <td>Female</td>\n",
       "      <td>Alabama</td>\n",
       "      <td>31</td>\n",
       "      <td>2/17/2019</td>\n",
       "      <td>3</td>\n",
       "      <td>married</td>\n",
       "      <td>40423</td>\n",
       "      <td>South</td>\n",
       "      <td>high-activity</td>\n",
       "    </tr>\n",
       "    <tr>\n",
       "      <th>1</th>\n",
       "      <td>2398795</td>\n",
       "      <td>1</td>\n",
       "      <td>2</td>\n",
       "      <td>3</td>\n",
       "      <td>7</td>\n",
       "      <td>15.0</td>\n",
       "      <td>196</td>\n",
       "      <td>1</td>\n",
       "      <td>1</td>\n",
       "      <td>Soda</td>\n",
       "      <td>...</td>\n",
       "      <td>Non-frequent customer</td>\n",
       "      <td>Female</td>\n",
       "      <td>Alabama</td>\n",
       "      <td>31</td>\n",
       "      <td>2/17/2019</td>\n",
       "      <td>3</td>\n",
       "      <td>married</td>\n",
       "      <td>40423</td>\n",
       "      <td>South</td>\n",
       "      <td>high-activity</td>\n",
       "    </tr>\n",
       "    <tr>\n",
       "      <th>2</th>\n",
       "      <td>473747</td>\n",
       "      <td>1</td>\n",
       "      <td>3</td>\n",
       "      <td>3</td>\n",
       "      <td>12</td>\n",
       "      <td>21.0</td>\n",
       "      <td>196</td>\n",
       "      <td>1</td>\n",
       "      <td>1</td>\n",
       "      <td>Soda</td>\n",
       "      <td>...</td>\n",
       "      <td>Non-frequent customer</td>\n",
       "      <td>Female</td>\n",
       "      <td>Alabama</td>\n",
       "      <td>31</td>\n",
       "      <td>2/17/2019</td>\n",
       "      <td>3</td>\n",
       "      <td>married</td>\n",
       "      <td>40423</td>\n",
       "      <td>South</td>\n",
       "      <td>high-activity</td>\n",
       "    </tr>\n",
       "    <tr>\n",
       "      <th>3</th>\n",
       "      <td>2254736</td>\n",
       "      <td>1</td>\n",
       "      <td>4</td>\n",
       "      <td>4</td>\n",
       "      <td>7</td>\n",
       "      <td>29.0</td>\n",
       "      <td>196</td>\n",
       "      <td>1</td>\n",
       "      <td>1</td>\n",
       "      <td>Soda</td>\n",
       "      <td>...</td>\n",
       "      <td>Non-frequent customer</td>\n",
       "      <td>Female</td>\n",
       "      <td>Alabama</td>\n",
       "      <td>31</td>\n",
       "      <td>2/17/2019</td>\n",
       "      <td>3</td>\n",
       "      <td>married</td>\n",
       "      <td>40423</td>\n",
       "      <td>South</td>\n",
       "      <td>high-activity</td>\n",
       "    </tr>\n",
       "    <tr>\n",
       "      <th>4</th>\n",
       "      <td>431534</td>\n",
       "      <td>1</td>\n",
       "      <td>5</td>\n",
       "      <td>4</td>\n",
       "      <td>15</td>\n",
       "      <td>28.0</td>\n",
       "      <td>196</td>\n",
       "      <td>1</td>\n",
       "      <td>1</td>\n",
       "      <td>Soda</td>\n",
       "      <td>...</td>\n",
       "      <td>Non-frequent customer</td>\n",
       "      <td>Female</td>\n",
       "      <td>Alabama</td>\n",
       "      <td>31</td>\n",
       "      <td>2/17/2019</td>\n",
       "      <td>3</td>\n",
       "      <td>married</td>\n",
       "      <td>40423</td>\n",
       "      <td>South</td>\n",
       "      <td>high-activity</td>\n",
       "    </tr>\n",
       "  </tbody>\n",
       "</table>\n",
       "<p>5 rows × 33 columns</p>\n",
       "</div>"
      ],
      "text/plain": [
       "   order_id user_id  order_number  orders_day_of_week  order_hour_of_day  \\\n",
       "0   2539329       1             1                   2                  8   \n",
       "1   2398795       1             2                   3                  7   \n",
       "2    473747       1             3                   3                 12   \n",
       "3   2254736       1             4                   4                  7   \n",
       "4    431534       1             5                   4                 15   \n",
       "\n",
       "   days_since_prior_order  product_id  add_to_cart_order  reordered  \\\n",
       "0                     NaN         196                  1          0   \n",
       "1                    15.0         196                  1          1   \n",
       "2                    21.0         196                  1          1   \n",
       "3                    29.0         196                  1          1   \n",
       "4                    28.0         196                  1          1   \n",
       "\n",
       "  product_name  ...   order_frequency_flag  gender    state age date_joined  \\\n",
       "0         Soda  ...  Non-frequent customer  Female  Alabama  31   2/17/2019   \n",
       "1         Soda  ...  Non-frequent customer  Female  Alabama  31   2/17/2019   \n",
       "2         Soda  ...  Non-frequent customer  Female  Alabama  31   2/17/2019   \n",
       "3         Soda  ...  Non-frequent customer  Female  Alabama  31   2/17/2019   \n",
       "4         Soda  ...  Non-frequent customer  Female  Alabama  31   2/17/2019   \n",
       "\n",
       "  number_dependants family_status income  region exclusion flag  \n",
       "0                 3       married  40423   South  high-activity  \n",
       "1                 3       married  40423   South  high-activity  \n",
       "2                 3       married  40423   South  high-activity  \n",
       "3                 3       married  40423   South  high-activity  \n",
       "4                 3       married  40423   South  high-activity  \n",
       "\n",
       "[5 rows x 33 columns]"
      ]
     },
     "execution_count": 27,
     "metadata": {},
     "output_type": "execute_result"
    }
   ],
   "source": [
    "df_all.head()"
   ]
  },
  {
   "cell_type": "code",
   "execution_count": 32,
   "id": "2b2724d0",
   "metadata": {},
   "outputs": [],
   "source": [
    "# Excluding low activiy custumers from the dataset\n",
    "df_2 = df_all.loc[df_all['exclusion flag'] == 'high-activity']"
   ]
  },
  {
   "cell_type": "code",
   "execution_count": 33,
   "id": "3ae7830b",
   "metadata": {},
   "outputs": [
    {
     "data": {
      "text/plain": [
       "(30964564, 33)"
      ]
     },
     "execution_count": 33,
     "metadata": {},
     "output_type": "execute_result"
    }
   ],
   "source": [
    "# Check dataframe shape\n",
    "df_2.shape"
   ]
  },
  {
   "cell_type": "code",
   "execution_count": 34,
   "id": "4cbe5bac",
   "metadata": {},
   "outputs": [
    {
     "data": {
      "text/plain": [
       "high-activity    30964564\n",
       "Name: exclusion flag, dtype: int64"
      ]
     },
     "execution_count": 34,
     "metadata": {},
     "output_type": "execute_result"
    }
   ],
   "source": [
    "df_2['exclusion flag'].value_counts()"
   ]
  },
  {
   "cell_type": "code",
   "execution_count": 36,
   "id": "fb9be9ae",
   "metadata": {},
   "outputs": [],
   "source": [
    "# Export data frame excluding low activity customers\n",
    "df_2.to_pickle(os.path.join(path, '02 Data', 'Prepared Data', 'df_high_activity_customers.pkl'))"
   ]
  },
  {
   "cell_type": "markdown",
   "id": "85f8bde7",
   "metadata": {},
   "source": [
    "### 5. The marketing and business strategy units at Instacart want to create more-relevant marketing strategies for different products and are, thus, curious about customer profiling in their database. Create a profiling variable based on age, income, certain goods in the “department_id” column, and number of dependents. You might also use the “orders_day_of_the_week” and “order_hour_of_day” columns if you can think of a way they would impact customer profiles. (Hint: As an example, try thinking of what characteristics would lead you to the profile “Single adult” or “Young parent.”)"
   ]
  },
  {
   "cell_type": "code",
   "execution_count": 3,
   "id": "22e32996",
   "metadata": {},
   "outputs": [],
   "source": [
    "# Reloading scripts (most recently exported pkl)\n",
    "\n",
    "# Importing data\n",
    "\n",
    "# identifying project path\n",
    "path = r'C:\\Users\\mavid\\OneDrive - Universidad Nacional de Colombia\\Weiterbildung\\Exercises\\Data_Inmersion\\Achivement4\\01_23_InstacartBasketAnalysis_CarlosBaena'\n",
    "\n",
    "# Import Instacart prepared orders data\n",
    "df_2 = pd.read_pickle(os.path.join(path, '02 Data','Prepared Data', 'df_high_activity_customers.pkl'))"
   ]
  },
  {
   "cell_type": "markdown",
   "id": "534078f0",
   "metadata": {},
   "source": [
    "#### Analyzing variables"
   ]
  },
  {
   "cell_type": "code",
   "execution_count": 9,
   "id": "9abffd1a",
   "metadata": {},
   "outputs": [],
   "source": [
    "crossprofil = pd.crosstab(df_2['family_status'], df_2['number_dependants'], dropna = False)"
   ]
  },
  {
   "cell_type": "code",
   "execution_count": 10,
   "id": "4d91ded2",
   "metadata": {},
   "outputs": [
    {
     "data": {
      "text/html": [
       "<div>\n",
       "<style scoped>\n",
       "    .dataframe tbody tr th:only-of-type {\n",
       "        vertical-align: middle;\n",
       "    }\n",
       "\n",
       "    .dataframe tbody tr th {\n",
       "        vertical-align: top;\n",
       "    }\n",
       "\n",
       "    .dataframe thead th {\n",
       "        text-align: right;\n",
       "    }\n",
       "</style>\n",
       "<table border=\"1\" class=\"dataframe\">\n",
       "  <thead>\n",
       "    <tr style=\"text-align: right;\">\n",
       "      <th>number_dependants</th>\n",
       "      <th>0</th>\n",
       "      <th>1</th>\n",
       "      <th>2</th>\n",
       "      <th>3</th>\n",
       "    </tr>\n",
       "    <tr>\n",
       "      <th>family_status</th>\n",
       "      <th></th>\n",
       "      <th></th>\n",
       "      <th></th>\n",
       "      <th></th>\n",
       "    </tr>\n",
       "  </thead>\n",
       "  <tbody>\n",
       "    <tr>\n",
       "      <th>divorced/widowed</th>\n",
       "      <td>2645271</td>\n",
       "      <td>0</td>\n",
       "      <td>0</td>\n",
       "      <td>0</td>\n",
       "    </tr>\n",
       "    <tr>\n",
       "      <th>living with parents and siblings</th>\n",
       "      <td>0</td>\n",
       "      <td>508045</td>\n",
       "      <td>484658</td>\n",
       "      <td>488469</td>\n",
       "    </tr>\n",
       "    <tr>\n",
       "      <th>married</th>\n",
       "      <td>0</td>\n",
       "      <td>7211061</td>\n",
       "      <td>7248603</td>\n",
       "      <td>7284047</td>\n",
       "    </tr>\n",
       "    <tr>\n",
       "      <th>single</th>\n",
       "      <td>5094410</td>\n",
       "      <td>0</td>\n",
       "      <td>0</td>\n",
       "      <td>0</td>\n",
       "    </tr>\n",
       "  </tbody>\n",
       "</table>\n",
       "</div>"
      ],
      "text/plain": [
       "number_dependants                       0        1        2        3\n",
       "family_status                                                       \n",
       "divorced/widowed                  2645271        0        0        0\n",
       "living with parents and siblings        0   508045   484658   488469\n",
       "married                                 0  7211061  7248603  7284047\n",
       "single                            5094410        0        0        0"
      ]
     },
     "execution_count": 10,
     "metadata": {},
     "output_type": "execute_result"
    }
   ],
   "source": [
    "crossprofil"
   ]
  },
  {
   "cell_type": "code",
   "execution_count": 5,
   "id": "358f9209",
   "metadata": {
    "scrolled": true
   },
   "outputs": [
    {
     "data": {
      "text/plain": [
       "count    3.096456e+07\n",
       "mean     4.946803e+01\n",
       "std      1.848528e+01\n",
       "min      1.800000e+01\n",
       "25%      3.300000e+01\n",
       "50%      4.900000e+01\n",
       "75%      6.500000e+01\n",
       "max      8.100000e+01\n",
       "Name: age, dtype: float64"
      ]
     },
     "execution_count": 5,
     "metadata": {},
     "output_type": "execute_result"
    }
   ],
   "source": [
    "df_2['age'].describe()"
   ]
  },
  {
   "cell_type": "code",
   "execution_count": 17,
   "id": "7d604a0c",
   "metadata": {},
   "outputs": [
    {
     "data": {
      "text/plain": [
       "Text(0.5, 1.0, 'Income Distribution Among Instacart Users')"
      ]
     },
     "execution_count": 17,
     "metadata": {},
     "output_type": "execute_result"
    },
    {
     "data": {
      "image/png": "[encoded data removed]",
      "text/plain": [
       "<Figure size 640x480 with 1 Axes>"
      ]
     },
     "metadata": {},
     "output_type": "display_data"
    }
   ],
   "source": [
    "# creating histogram of incomes to see distribution\n",
    "\n",
    "hist1 = df_2['income'].plot.hist(bins = 25, rwidth=0.9)\n",
    "\n",
    "plt.xlabel(\"Family Income\")\n",
    "plt.ylabel(\"Frequency (in millions)\")\n",
    "plt.title(\"Income Distribution Among Instacart Users\")"
   ]
  },
  {
   "cell_type": "code",
   "execution_count": 23,
   "id": "7065d445",
   "metadata": {},
   "outputs": [],
   "source": [
    "# exporting histogram\n",
    "hist1.figure.savefig(os.path.join(path, '04 Analysis', 'Visualizations', 'hist_customers_income.png'))"
   ]
  },
  {
   "cell_type": "markdown",
   "id": "9309b31b",
   "metadata": {},
   "source": [
    "#### Creating profile column"
   ]
  },
  {
   "cell_type": "code",
   "execution_count": 15,
   "id": "ce4c362c",
   "metadata": {},
   "outputs": [],
   "source": [
    "# creating profile for \"single adult with money\"\n",
    "df_2.loc[(df_2['family_status'] == 'single') & (df_2['age'] >= 18), 'profile'] = 'single adult'"
   ]
  },
  {
   "cell_type": "code",
   "execution_count": 16,
   "id": "ff3eb5e8",
   "metadata": {},
   "outputs": [],
   "source": [
    "# creating profile for small families with high incomes (above $100,000)\n",
    "df_2.loc[(df_2['number_dependants'] == 1) & (df_2['income'] > 100000), 'profile'] = 'high-income small family'"
   ]
  },
  {
   "cell_type": "code",
   "execution_count": 17,
   "id": "8b9a7363",
   "metadata": {},
   "outputs": [],
   "source": [
    "# creating profile for medium families with high incomes (above $100,000)\n",
    "df_2.loc[(df_2['number_dependants'] == 2) & (df_2['income'] > 100000), 'profile'] = 'high-income medium family'"
   ]
  },
  {
   "cell_type": "code",
   "execution_count": 18,
   "id": "30aeab78",
   "metadata": {
    "scrolled": true
   },
   "outputs": [],
   "source": [
    "# creating profile for big families with high incomes (above $100,000)\n",
    "df_2.loc[(df_2['number_dependants'] == 3) & (df_2['income'] > 100000), 'profile'] = 'high-income big family'"
   ]
  },
  {
   "cell_type": "code",
   "execution_count": 19,
   "id": "70a41ca4",
   "metadata": {},
   "outputs": [],
   "source": [
    "# creating profile for small families with low incomes (below $100,000)\n",
    "df_2.loc[(df_2['number_dependants'] == 1) & (df_2['income'] < 100000), 'profile'] = 'low-income small family'"
   ]
  },
  {
   "cell_type": "code",
   "execution_count": 20,
   "id": "2f9364de",
   "metadata": {},
   "outputs": [],
   "source": [
    "# creating profile for medium families with low incomes (below $100,000)\n",
    "df_2.loc[(df_2['number_dependants'] == 2) & (df_2['income'] < 100000), 'profile'] = 'low-income medium family'"
   ]
  },
  {
   "cell_type": "code",
   "execution_count": 21,
   "id": "c06e49a4",
   "metadata": {},
   "outputs": [],
   "source": [
    "# creating profile for big families with low incomes (below $100,000)\n",
    "df_2.loc[(df_2['number_dependants'] == 3) & (df_2['income'] < 100000), 'profile'] = 'low-income big family'"
   ]
  },
  {
   "cell_type": "code",
   "execution_count": 22,
   "id": "e3ca40f1",
   "metadata": {},
   "outputs": [],
   "source": [
    "# creating profile for \"babies at home\"  (department = 18 = babies)\n",
    "df_2.loc[(df_2['number_dependants'] > 0) & (df_2['department_id'] == 18), 'profile'] = 'babies at home'"
   ]
  },
  {
   "cell_type": "code",
   "execution_count": 23,
   "id": "22bdec7e",
   "metadata": {},
   "outputs": [],
   "source": [
    "# creating profile for \"employees\" (department = 14 = breakfast)\n",
    "df_2.loc[(df_2['order_hour_of_day'] < 12)  & (df_2['department_id'] == 14) & (df_2['age'] > 30) & (df_2['income'] > 30000), 'profile'] = 'employees'"
   ]
  },
  {
   "cell_type": "code",
   "execution_count": 24,
   "id": "2f0f87cf",
   "metadata": {},
   "outputs": [],
   "source": [
    "# creating profile for \"retired wealthy\" \n",
    "df_2.loc[(df_2['age'] >= 65) & (df_2['income'] > 100000), 'profile'] = 'retired wealthy'"
   ]
  },
  {
   "cell_type": "code",
   "execution_count": 25,
   "id": "b98067be",
   "metadata": {},
   "outputs": [],
   "source": [
    "# creating profile for \"retired less money\" \n",
    "df_2.loc[(df_2['age'] < 65) & (df_2['income'] < 100000), 'profile'] = 'retired less money'"
   ]
  },
  {
   "cell_type": "code",
   "execution_count": 26,
   "id": "aa08279f",
   "metadata": {},
   "outputs": [],
   "source": [
    "# labelling everyone else as \"other\"\n",
    "df_2['profile'] = df_2['profile'].fillna('other')"
   ]
  },
  {
   "cell_type": "code",
   "execution_count": 27,
   "id": "d87bcc3c",
   "metadata": {
    "scrolled": false
   },
   "outputs": [
    {
     "data": {
      "text/plain": [
       "retired less money           14303381\n",
       "retired wealthy               5741763\n",
       "high-income big family        2080524\n",
       "high-income small family      2074535\n",
       "high-income medium family     2024598\n",
       "single adult                  1709728\n",
       "other                         1019994\n",
       "low-income medium family       615776\n",
       "low-income small family        610234\n",
       "low-income big family          587826\n",
       "babies at home                 110750\n",
       "employees                       85455\n",
       "Name: profile, dtype: int64"
      ]
     },
     "execution_count": 27,
     "metadata": {},
     "output_type": "execute_result"
    }
   ],
   "source": [
    "df_2['profile'].value_counts(dropna = False)"
   ]
  },
  {
   "cell_type": "markdown",
   "id": "ff3918cf",
   "metadata": {},
   "source": [
    "### 6. Create an appropriate visualization to show the distribution of profiles"
   ]
  },
  {
   "cell_type": "code",
   "execution_count": 75,
   "id": "8025d5f6",
   "metadata": {},
   "outputs": [
    {
     "data": {
      "text/plain": [
       "([<matplotlib.axis.XTick at 0x2335feb3370>,\n",
       "  <matplotlib.axis.XTick at 0x2335feb3340>,\n",
       "  <matplotlib.axis.XTick at 0x2335fed6490>,\n",
       "  <matplotlib.axis.XTick at 0x2335fef4430>,\n",
       "  <matplotlib.axis.XTick at 0x2335fef4b80>,\n",
       "  <matplotlib.axis.XTick at 0x2335fefd310>,\n",
       "  <matplotlib.axis.XTick at 0x2335fefda60>,\n",
       "  <matplotlib.axis.XTick at 0x2335fefdd30>,\n",
       "  <matplotlib.axis.XTick at 0x2335feab040>,\n",
       "  <matplotlib.axis.XTick at 0x233600f3490>,\n",
       "  <matplotlib.axis.XTick at 0x233600f3be0>,\n",
       "  <matplotlib.axis.XTick at 0x233600fa370>],\n",
       " [Text(0, 0, 'retired\\nless money'),\n",
       "  Text(1, 0, 'retired\\nwealthy'),\n",
       "  Text(2, 0, 'high-income\\nbig family'),\n",
       "  Text(3, 0, 'high-income\\nsmall family '),\n",
       "  Text(4, 0, 'high-income\\nmedium family'),\n",
       "  Text(5, 0, 'single adult'),\n",
       "  Text(6, 0, 'other'),\n",
       "  Text(7, 0, 'low-income\\nmedium family '),\n",
       "  Text(8, 0, 'low-income\\nsmall family '),\n",
       "  Text(9, 0, 'low-income\\nbig family'),\n",
       "  Text(10, 0, 'babies\\nat home '),\n",
       "  Text(11, 0, 'employees')])"
      ]
     },
     "execution_count": 75,
     "metadata": {},
     "output_type": "execute_result"
    },
    {
     "data": {
      "image/png": "[encoded data removed]",
      "text/plain": [
       "<Figure size 1000x500 with 1 Axes>"
      ]
     },
     "metadata": {},
     "output_type": "display_data"
    }
   ],
   "source": [
    "# creating a bar chart of instacart profiles\n",
    "\n",
    "bar = df_2['profile'].value_counts().plot.bar(rot=45, figsize = (10,5))\n",
    "plt.ylabel(\"Instacart customers (in tens of millions)\")\n",
    "plt.title (\"Instacart customer profiles\")\n",
    "plt.xticks([0,1,2,3,4,5,6,7,8,9,10,11],['retired\\nless money','retired\\nwealthy','high-income\\nbig family', 'high-income\\nsmall family ', 'high-income\\nmedium family','single adult','other','low-income\\nmedium family ','low-income\\nsmall family ','low-income\\nbig family','babies\\nat home ','employees'])\n"
   ]
  },
  {
   "cell_type": "code",
   "execution_count": 76,
   "id": "9d72f816",
   "metadata": {},
   "outputs": [],
   "source": [
    "bar.figure.savefig(os.path.join(path, '04 Analysis', 'Visualizations', 'customer_profiles.png'), bbox_inches='tight')"
   ]
  },
  {
   "cell_type": "markdown",
   "id": "cd8b9ec7",
   "metadata": {},
   "source": [
    "### 7. Aggregate the max, mean, and min variables on a customer-profile level for usage frequency and expenditure."
   ]
  },
  {
   "cell_type": "code",
   "execution_count": 91,
   "id": "36fb9983",
   "metadata": {
    "scrolled": false
   },
   "outputs": [
    {
     "name": "stdout",
     "output_type": "stream",
     "text": [
      "                           order_id user_id  order_number  orders_day_of_week  \\\n",
      "profile                                                                         \n",
      "babies at home              2933894   84092             1                   0   \n",
      "employees                    289457  178520             1                   1   \n",
      "high-income big family      1564244  108187             1                   0   \n",
      "high-income medium family    604218  175294             1                   0   \n",
      "high-income small family     653887  127158             1                   0   \n",
      "low-income big family        384383  140440             2                   1   \n",
      "low-income medium family    1037729   74315             1                   0   \n",
      "low-income small family     1321070   17738             1                   1   \n",
      "other                       2660847  176478             1                   0   \n",
      "retired less money           790903  129928             1                   0   \n",
      "retired wealthy             2716231  201268             1                   0   \n",
      "single adult                1737192   13701             1                   0   \n",
      "\n",
      "                           order_hour_of_day  days_since_prior_order  \\\n",
      "profile                                                                \n",
      "babies at home                             9                     7.0   \n",
      "employees                                 10                     7.0   \n",
      "high-income big family                    15                     7.0   \n",
      "high-income medium family                 13                     7.0   \n",
      "high-income small family                  15                     7.0   \n",
      "low-income big family                     10                     7.0   \n",
      "low-income medium family                  10                     7.0   \n",
      "low-income small family                   10                     7.0   \n",
      "other                                     14                     7.0   \n",
      "retired less money                        10                     7.0   \n",
      "retired wealthy                           10                     7.0   \n",
      "single adult                              14                     7.0   \n",
      "\n",
      "                           product_id  add_to_cart_order  reordered  \\\n",
      "profile                                                               \n",
      "babies at home                  43875                  4          1   \n",
      "employees                       41844                  2          1   \n",
      "high-income big family          24852                  1          1   \n",
      "high-income medium family       24852                  1          1   \n",
      "high-income small family        24852                  1          1   \n",
      "low-income big family           24852                  1          1   \n",
      "low-income medium family        24852                  1          1   \n",
      "low-income small family         24852                  1          1   \n",
      "other                           24852                  1          1   \n",
      "retired less money              24852                  1          1   \n",
      "retired wealthy                 24852                  1          1   \n",
      "single adult                    24852                  1          1   \n",
      "\n",
      "                                                               product_name  \\\n",
      "profile                                                                       \n",
      "babies at home             Baby Food Stage 2 Blueberry Pear & Purple Carrot   \n",
      "employees                                                Honey Nut Cheerios   \n",
      "high-income big family                                               Banana   \n",
      "high-income medium family                                            Banana   \n",
      "high-income small family                                             Banana   \n",
      "low-income big family                                                Banana   \n",
      "low-income medium family                                             Banana   \n",
      "low-income small family                                              Banana   \n",
      "other                                                                Banana   \n",
      "retired less money                                                   Banana   \n",
      "retired wealthy                                                      Banana   \n",
      "single adult                                                         Banana   \n",
      "\n",
      "                           ...  order_frequency_flag  gender          state  \\\n",
      "profile                    ...                                                \n",
      "babies at home             ...     Frequent customer    Male       Oklahoma   \n",
      "employees                  ...     Frequent customer  Female           Ohio   \n",
      "high-income big family     ...     Frequent customer  Female        Arizona   \n",
      "high-income medium family  ...     Frequent customer    Male        Wyoming   \n",
      "high-income small family   ...     Frequent customer    Male  Massachusetts   \n",
      "low-income big family      ...     Frequent customer    Male         Alaska   \n",
      "low-income medium family   ...     Frequent customer  Female       Maryland   \n",
      "low-income small family    ...     Frequent customer    Male  Massachusetts   \n",
      "other                      ...     Frequent customer  Female           Ohio   \n",
      "retired less money         ...     Frequent customer    Male   Pennsylvania   \n",
      "retired wealthy            ...     Frequent customer    Male        Montana   \n",
      "single adult               ...     Frequent customer    Male        Arizona   \n",
      "\n",
      "                          age date_joined number_dependants     family_status  \\\n",
      "profile                                                                         \n",
      "babies at home             51   4/20/2018                 2           married   \n",
      "employees                  56   8/16/2019                 1           married   \n",
      "high-income big family     51   11/5/2019                 3           married   \n",
      "high-income medium family  44   2/20/2019                 2           married   \n",
      "high-income small family   42  12/17/2018                 1           married   \n",
      "low-income big family      80    5/7/2017                 3           married   \n",
      "low-income medium family   73   1/20/2018                 2           married   \n",
      "low-income small family    79   1/15/2019                 1           married   \n",
      "other                      64   1/30/2017                 0  divorced/widowed   \n",
      "retired less money         31   7/28/2018                 3           married   \n",
      "retired wealthy            68    6/8/2019                 2           married   \n",
      "single adult               49    9/6/2017                 0            single   \n",
      "\n",
      "                           income  region exclusion flag  \n",
      "profile                                                   \n",
      "babies at home             118074   South  high-activity  \n",
      "employees                   76976   South  high-activity  \n",
      "high-income big family     109407   South  high-activity  \n",
      "high-income medium family  143713   South  high-activity  \n",
      "high-income small family   142621   South  high-activity  \n",
      "low-income big family       44048   South  high-activity  \n",
      "low-income medium family    77766   South  high-activity  \n",
      "low-income small family     37788   South  high-activity  \n",
      "other                      138180   South  high-activity  \n",
      "retired less money          57501   South  high-activity  \n",
      "retired wealthy            112610   South  high-activity  \n",
      "single adult               108453   South  high-activity  \n",
      "\n",
      "[12 rows x 33 columns]\n"
     ]
    }
   ],
   "source": [
    "# Calculating the mode to see most usual values per column\n",
    "print(df_2.groupby('profile').agg(lambda x:x.value_counts().index[0]))"
   ]
  },
  {
   "cell_type": "markdown",
   "id": "567e3a2c",
   "metadata": {},
   "source": [
    "#### From this calculation we found some interesting information:\n",
    "\n",
    "1. The most common days for the customers to buy are saturday and sunday\n",
    "2. Usually they buy products every 7 days\n",
    "3. Most customers buy between 9 to 14 o'clock"
   ]
  },
  {
   "cell_type": "code",
   "execution_count": 95,
   "id": "9f6c64dc",
   "metadata": {},
   "outputs": [
    {
     "data": {
      "text/html": [
       "<div>\n",
       "<style scoped>\n",
       "    .dataframe tbody tr th:only-of-type {\n",
       "        vertical-align: middle;\n",
       "    }\n",
       "\n",
       "    .dataframe tbody tr th {\n",
       "        vertical-align: top;\n",
       "    }\n",
       "\n",
       "    .dataframe thead tr th {\n",
       "        text-align: left;\n",
       "    }\n",
       "\n",
       "    .dataframe thead tr:last-of-type th {\n",
       "        text-align: right;\n",
       "    }\n",
       "</style>\n",
       "<table border=\"1\" class=\"dataframe\">\n",
       "  <thead>\n",
       "    <tr>\n",
       "      <th></th>\n",
       "      <th colspan=\"3\" halign=\"left\">prices</th>\n",
       "      <th colspan=\"3\" halign=\"left\">days_since_prior_order</th>\n",
       "    </tr>\n",
       "    <tr>\n",
       "      <th></th>\n",
       "      <th>mean</th>\n",
       "      <th>min</th>\n",
       "      <th>max</th>\n",
       "      <th>mean</th>\n",
       "      <th>min</th>\n",
       "      <th>max</th>\n",
       "    </tr>\n",
       "    <tr>\n",
       "      <th>profile</th>\n",
       "      <th></th>\n",
       "      <th></th>\n",
       "      <th></th>\n",
       "      <th></th>\n",
       "      <th></th>\n",
       "      <th></th>\n",
       "    </tr>\n",
       "  </thead>\n",
       "  <tbody>\n",
       "    <tr>\n",
       "      <th>babies at home</th>\n",
       "      <td>7.650360</td>\n",
       "      <td>1.0</td>\n",
       "      <td>15.0</td>\n",
       "      <td>9.683640</td>\n",
       "      <td>0.0</td>\n",
       "      <td>30.0</td>\n",
       "    </tr>\n",
       "    <tr>\n",
       "      <th>employees</th>\n",
       "      <td>8.048704</td>\n",
       "      <td>1.0</td>\n",
       "      <td>14.9</td>\n",
       "      <td>10.807450</td>\n",
       "      <td>0.0</td>\n",
       "      <td>30.0</td>\n",
       "    </tr>\n",
       "    <tr>\n",
       "      <th>high-income big family</th>\n",
       "      <td>7.954985</td>\n",
       "      <td>1.0</td>\n",
       "      <td>25.0</td>\n",
       "      <td>10.846302</td>\n",
       "      <td>0.0</td>\n",
       "      <td>30.0</td>\n",
       "    </tr>\n",
       "    <tr>\n",
       "      <th>high-income medium family</th>\n",
       "      <td>7.958729</td>\n",
       "      <td>1.0</td>\n",
       "      <td>25.0</td>\n",
       "      <td>10.871777</td>\n",
       "      <td>0.0</td>\n",
       "      <td>30.0</td>\n",
       "    </tr>\n",
       "    <tr>\n",
       "      <th>high-income small family</th>\n",
       "      <td>7.953260</td>\n",
       "      <td>1.0</td>\n",
       "      <td>25.0</td>\n",
       "      <td>10.794811</td>\n",
       "      <td>0.0</td>\n",
       "      <td>30.0</td>\n",
       "    </tr>\n",
       "    <tr>\n",
       "      <th>low-income big family</th>\n",
       "      <td>7.405946</td>\n",
       "      <td>1.0</td>\n",
       "      <td>25.0</td>\n",
       "      <td>10.936569</td>\n",
       "      <td>0.0</td>\n",
       "      <td>30.0</td>\n",
       "    </tr>\n",
       "    <tr>\n",
       "      <th>low-income medium family</th>\n",
       "      <td>7.417199</td>\n",
       "      <td>1.0</td>\n",
       "      <td>25.0</td>\n",
       "      <td>10.949381</td>\n",
       "      <td>0.0</td>\n",
       "      <td>30.0</td>\n",
       "    </tr>\n",
       "    <tr>\n",
       "      <th>low-income small family</th>\n",
       "      <td>7.429636</td>\n",
       "      <td>1.0</td>\n",
       "      <td>25.0</td>\n",
       "      <td>10.772033</td>\n",
       "      <td>0.0</td>\n",
       "      <td>30.0</td>\n",
       "    </tr>\n",
       "    <tr>\n",
       "      <th>other</th>\n",
       "      <td>7.650038</td>\n",
       "      <td>1.0</td>\n",
       "      <td>25.0</td>\n",
       "      <td>10.778429</td>\n",
       "      <td>0.0</td>\n",
       "      <td>30.0</td>\n",
       "    </tr>\n",
       "    <tr>\n",
       "      <th>retired less money</th>\n",
       "      <td>7.691442</td>\n",
       "      <td>1.0</td>\n",
       "      <td>25.0</td>\n",
       "      <td>10.839344</td>\n",
       "      <td>0.0</td>\n",
       "      <td>30.0</td>\n",
       "    </tr>\n",
       "    <tr>\n",
       "      <th>retired wealthy</th>\n",
       "      <td>7.955200</td>\n",
       "      <td>1.0</td>\n",
       "      <td>25.0</td>\n",
       "      <td>10.755532</td>\n",
       "      <td>0.0</td>\n",
       "      <td>30.0</td>\n",
       "    </tr>\n",
       "    <tr>\n",
       "      <th>single adult</th>\n",
       "      <td>7.946717</td>\n",
       "      <td>1.0</td>\n",
       "      <td>25.0</td>\n",
       "      <td>10.666752</td>\n",
       "      <td>0.0</td>\n",
       "      <td>30.0</td>\n",
       "    </tr>\n",
       "  </tbody>\n",
       "</table>\n",
       "</div>"
      ],
      "text/plain": [
       "                             prices            days_since_prior_order       \\\n",
       "                               mean  min   max                   mean  min   \n",
       "profile                                                                      \n",
       "babies at home             7.650360  1.0  15.0               9.683640  0.0   \n",
       "employees                  8.048704  1.0  14.9              10.807450  0.0   \n",
       "high-income big family     7.954985  1.0  25.0              10.846302  0.0   \n",
       "high-income medium family  7.958729  1.0  25.0              10.871777  0.0   \n",
       "high-income small family   7.953260  1.0  25.0              10.794811  0.0   \n",
       "low-income big family      7.405946  1.0  25.0              10.936569  0.0   \n",
       "low-income medium family   7.417199  1.0  25.0              10.949381  0.0   \n",
       "low-income small family    7.429636  1.0  25.0              10.772033  0.0   \n",
       "other                      7.650038  1.0  25.0              10.778429  0.0   \n",
       "retired less money         7.691442  1.0  25.0              10.839344  0.0   \n",
       "retired wealthy            7.955200  1.0  25.0              10.755532  0.0   \n",
       "single adult               7.946717  1.0  25.0              10.666752  0.0   \n",
       "\n",
       "                                 \n",
       "                            max  \n",
       "profile                          \n",
       "babies at home             30.0  \n",
       "employees                  30.0  \n",
       "high-income big family     30.0  \n",
       "high-income medium family  30.0  \n",
       "high-income small family   30.0  \n",
       "low-income big family      30.0  \n",
       "low-income medium family   30.0  \n",
       "low-income small family    30.0  \n",
       "other                      30.0  \n",
       "retired less money         30.0  \n",
       "retired wealthy            30.0  \n",
       "single adult               30.0  "
      ]
     },
     "execution_count": 95,
     "metadata": {},
     "output_type": "execute_result"
    }
   ],
   "source": [
    "# aggregating min, max, mean of prices and avg_days_since_last_order for all profiles\n",
    "df_2.groupby('profile').agg({'prices': ['mean', 'min', 'max'], 'days_since_prior_order': ['mean', 'min', 'max']})"
   ]
  },
  {
   "cell_type": "markdown",
   "id": "9ca8d60b",
   "metadata": {},
   "source": [
    "### 8. Compare your customer profiles with regions and departments. Can you identify a link between them? Customers may demonstrate different behaviors across regions, which could make this information important."
   ]
  },
  {
   "cell_type": "code",
   "execution_count": 109,
   "id": "1ea2cfcf",
   "metadata": {},
   "outputs": [],
   "source": [
    "# creating a crosstab to compare different profiles by region\n",
    "crosstab_region = pd.crosstab(df_2['profile'], df_2['region'], dropna = False)"
   ]
  },
  {
   "cell_type": "code",
   "execution_count": 110,
   "id": "18ad22cc",
   "metadata": {},
   "outputs": [
    {
     "data": {
      "text/html": [
       "<div>\n",
       "<style scoped>\n",
       "    .dataframe tbody tr th:only-of-type {\n",
       "        vertical-align: middle;\n",
       "    }\n",
       "\n",
       "    .dataframe tbody tr th {\n",
       "        vertical-align: top;\n",
       "    }\n",
       "\n",
       "    .dataframe thead th {\n",
       "        text-align: right;\n",
       "    }\n",
       "</style>\n",
       "<table border=\"1\" class=\"dataframe\">\n",
       "  <thead>\n",
       "    <tr style=\"text-align: right;\">\n",
       "      <th>region</th>\n",
       "      <th>Midwest</th>\n",
       "      <th>Northeast</th>\n",
       "      <th>South</th>\n",
       "      <th>West</th>\n",
       "    </tr>\n",
       "    <tr>\n",
       "      <th>profile</th>\n",
       "      <th></th>\n",
       "      <th></th>\n",
       "      <th></th>\n",
       "      <th></th>\n",
       "    </tr>\n",
       "  </thead>\n",
       "  <tbody>\n",
       "    <tr>\n",
       "      <th>babies at home</th>\n",
       "      <td>25675</td>\n",
       "      <td>19181</td>\n",
       "      <td>37896</td>\n",
       "      <td>27998</td>\n",
       "    </tr>\n",
       "    <tr>\n",
       "      <th>employees</th>\n",
       "      <td>20488</td>\n",
       "      <td>14562</td>\n",
       "      <td>27749</td>\n",
       "      <td>22656</td>\n",
       "    </tr>\n",
       "    <tr>\n",
       "      <th>high-income big family</th>\n",
       "      <td>497356</td>\n",
       "      <td>371518</td>\n",
       "      <td>672813</td>\n",
       "      <td>538837</td>\n",
       "    </tr>\n",
       "    <tr>\n",
       "      <th>high-income medium family</th>\n",
       "      <td>495502</td>\n",
       "      <td>362041</td>\n",
       "      <td>669656</td>\n",
       "      <td>497399</td>\n",
       "    </tr>\n",
       "    <tr>\n",
       "      <th>high-income small family</th>\n",
       "      <td>508098</td>\n",
       "      <td>371750</td>\n",
       "      <td>661839</td>\n",
       "      <td>532848</td>\n",
       "    </tr>\n",
       "    <tr>\n",
       "      <th>low-income big family</th>\n",
       "      <td>131714</td>\n",
       "      <td>102364</td>\n",
       "      <td>195192</td>\n",
       "      <td>158556</td>\n",
       "    </tr>\n",
       "    <tr>\n",
       "      <th>low-income medium family</th>\n",
       "      <td>134995</td>\n",
       "      <td>107363</td>\n",
       "      <td>208825</td>\n",
       "      <td>164593</td>\n",
       "    </tr>\n",
       "    <tr>\n",
       "      <th>low-income small family</th>\n",
       "      <td>139978</td>\n",
       "      <td>114918</td>\n",
       "      <td>201809</td>\n",
       "      <td>153529</td>\n",
       "    </tr>\n",
       "    <tr>\n",
       "      <th>other</th>\n",
       "      <td>251654</td>\n",
       "      <td>178039</td>\n",
       "      <td>341817</td>\n",
       "      <td>248484</td>\n",
       "    </tr>\n",
       "    <tr>\n",
       "      <th>retired less money</th>\n",
       "      <td>3295602</td>\n",
       "      <td>2506998</td>\n",
       "      <td>4832355</td>\n",
       "      <td>3668426</td>\n",
       "    </tr>\n",
       "    <tr>\n",
       "      <th>retired wealthy</th>\n",
       "      <td>1338228</td>\n",
       "      <td>1043604</td>\n",
       "      <td>1893622</td>\n",
       "      <td>1466309</td>\n",
       "    </tr>\n",
       "    <tr>\n",
       "      <th>single adult</th>\n",
       "      <td>422223</td>\n",
       "      <td>272347</td>\n",
       "      <td>567566</td>\n",
       "      <td>447592</td>\n",
       "    </tr>\n",
       "  </tbody>\n",
       "</table>\n",
       "</div>"
      ],
      "text/plain": [
       "region                     Midwest  Northeast    South     West\n",
       "profile                                                        \n",
       "babies at home               25675      19181    37896    27998\n",
       "employees                    20488      14562    27749    22656\n",
       "high-income big family      497356     371518   672813   538837\n",
       "high-income medium family   495502     362041   669656   497399\n",
       "high-income small family    508098     371750   661839   532848\n",
       "low-income big family       131714     102364   195192   158556\n",
       "low-income medium family    134995     107363   208825   164593\n",
       "low-income small family     139978     114918   201809   153529\n",
       "other                       251654     178039   341817   248484\n",
       "retired less money         3295602    2506998  4832355  3668426\n",
       "retired wealthy            1338228    1043604  1893622  1466309\n",
       "single adult                422223     272347   567566   447592"
      ]
     },
     "execution_count": 110,
     "metadata": {},
     "output_type": "execute_result"
    }
   ],
   "source": [
    "crosstab_region"
   ]
  },
  {
   "cell_type": "code",
   "execution_count": 111,
   "id": "f3badb9a",
   "metadata": {},
   "outputs": [],
   "source": [
    "# creating a crosstab to compare different profiles by region\n",
    "crosstab_department = pd.crosstab(df_2['profile'], df_2['department_id'], dropna = False)"
   ]
  },
  {
   "cell_type": "code",
   "execution_count": 112,
   "id": "f1224ee2",
   "metadata": {},
   "outputs": [
    {
     "data": {
      "text/html": [
       "<div>\n",
       "<style scoped>\n",
       "    .dataframe tbody tr th:only-of-type {\n",
       "        vertical-align: middle;\n",
       "    }\n",
       "\n",
       "    .dataframe tbody tr th {\n",
       "        vertical-align: top;\n",
       "    }\n",
       "\n",
       "    .dataframe thead th {\n",
       "        text-align: right;\n",
       "    }\n",
       "</style>\n",
       "<table border=\"1\" class=\"dataframe\">\n",
       "  <thead>\n",
       "    <tr style=\"text-align: right;\">\n",
       "      <th>department_id</th>\n",
       "      <th>1</th>\n",
       "      <th>2</th>\n",
       "      <th>3</th>\n",
       "      <th>4</th>\n",
       "      <th>5</th>\n",
       "      <th>6</th>\n",
       "      <th>7</th>\n",
       "      <th>8</th>\n",
       "      <th>9</th>\n",
       "      <th>10</th>\n",
       "      <th>...</th>\n",
       "      <th>12</th>\n",
       "      <th>13</th>\n",
       "      <th>14</th>\n",
       "      <th>15</th>\n",
       "      <th>16</th>\n",
       "      <th>17</th>\n",
       "      <th>18</th>\n",
       "      <th>19</th>\n",
       "      <th>20</th>\n",
       "      <th>21</th>\n",
       "    </tr>\n",
       "    <tr>\n",
       "      <th>profile</th>\n",
       "      <th></th>\n",
       "      <th></th>\n",
       "      <th></th>\n",
       "      <th></th>\n",
       "      <th></th>\n",
       "      <th></th>\n",
       "      <th></th>\n",
       "      <th></th>\n",
       "      <th></th>\n",
       "      <th></th>\n",
       "      <th></th>\n",
       "      <th></th>\n",
       "      <th></th>\n",
       "      <th></th>\n",
       "      <th></th>\n",
       "      <th></th>\n",
       "      <th></th>\n",
       "      <th></th>\n",
       "      <th></th>\n",
       "      <th></th>\n",
       "      <th></th>\n",
       "    </tr>\n",
       "  </thead>\n",
       "  <tbody>\n",
       "    <tr>\n",
       "      <th>babies at home</th>\n",
       "      <td>0</td>\n",
       "      <td>0</td>\n",
       "      <td>0</td>\n",
       "      <td>0</td>\n",
       "      <td>0</td>\n",
       "      <td>0</td>\n",
       "      <td>0</td>\n",
       "      <td>0</td>\n",
       "      <td>0</td>\n",
       "      <td>0</td>\n",
       "      <td>...</td>\n",
       "      <td>0</td>\n",
       "      <td>0</td>\n",
       "      <td>0</td>\n",
       "      <td>0</td>\n",
       "      <td>0</td>\n",
       "      <td>0</td>\n",
       "      <td>110750</td>\n",
       "      <td>0</td>\n",
       "      <td>0</td>\n",
       "      <td>0</td>\n",
       "    </tr>\n",
       "    <tr>\n",
       "      <th>employees</th>\n",
       "      <td>0</td>\n",
       "      <td>0</td>\n",
       "      <td>0</td>\n",
       "      <td>0</td>\n",
       "      <td>0</td>\n",
       "      <td>0</td>\n",
       "      <td>0</td>\n",
       "      <td>0</td>\n",
       "      <td>0</td>\n",
       "      <td>0</td>\n",
       "      <td>...</td>\n",
       "      <td>0</td>\n",
       "      <td>0</td>\n",
       "      <td>85455</td>\n",
       "      <td>0</td>\n",
       "      <td>0</td>\n",
       "      <td>0</td>\n",
       "      <td>0</td>\n",
       "      <td>0</td>\n",
       "      <td>0</td>\n",
       "      <td>0</td>\n",
       "    </tr>\n",
       "    <tr>\n",
       "      <th>high-income big family</th>\n",
       "      <td>148269</td>\n",
       "      <td>2439</td>\n",
       "      <td>77995</td>\n",
       "      <td>635659</td>\n",
       "      <td>10908</td>\n",
       "      <td>17860</td>\n",
       "      <td>167832</td>\n",
       "      <td>7449</td>\n",
       "      <td>59156</td>\n",
       "      <td>1897</td>\n",
       "      <td>...</td>\n",
       "      <td>50414</td>\n",
       "      <td>124562</td>\n",
       "      <td>28470</td>\n",
       "      <td>72922</td>\n",
       "      <td>359813</td>\n",
       "      <td>48501</td>\n",
       "      <td>0</td>\n",
       "      <td>164201</td>\n",
       "      <td>68441</td>\n",
       "      <td>4194</td>\n",
       "    </tr>\n",
       "    <tr>\n",
       "      <th>high-income medium family</th>\n",
       "      <td>144982</td>\n",
       "      <td>2187</td>\n",
       "      <td>78502</td>\n",
       "      <td>608801</td>\n",
       "      <td>10332</td>\n",
       "      <td>17318</td>\n",
       "      <td>165516</td>\n",
       "      <td>5949</td>\n",
       "      <td>57340</td>\n",
       "      <td>2003</td>\n",
       "      <td>...</td>\n",
       "      <td>49473</td>\n",
       "      <td>123306</td>\n",
       "      <td>27855</td>\n",
       "      <td>71086</td>\n",
       "      <td>351215</td>\n",
       "      <td>47357</td>\n",
       "      <td>0</td>\n",
       "      <td>160048</td>\n",
       "      <td>68210</td>\n",
       "      <td>4324</td>\n",
       "    </tr>\n",
       "    <tr>\n",
       "      <th>high-income small family</th>\n",
       "      <td>147204</td>\n",
       "      <td>2368</td>\n",
       "      <td>77955</td>\n",
       "      <td>632094</td>\n",
       "      <td>10417</td>\n",
       "      <td>18021</td>\n",
       "      <td>167642</td>\n",
       "      <td>6254</td>\n",
       "      <td>58253</td>\n",
       "      <td>2269</td>\n",
       "      <td>...</td>\n",
       "      <td>50368</td>\n",
       "      <td>126448</td>\n",
       "      <td>29054</td>\n",
       "      <td>72895</td>\n",
       "      <td>359047</td>\n",
       "      <td>48563</td>\n",
       "      <td>0</td>\n",
       "      <td>164858</td>\n",
       "      <td>66933</td>\n",
       "      <td>4700</td>\n",
       "    </tr>\n",
       "    <tr>\n",
       "      <th>low-income big family</th>\n",
       "      <td>38781</td>\n",
       "      <td>541</td>\n",
       "      <td>20423</td>\n",
       "      <td>170528</td>\n",
       "      <td>2637</td>\n",
       "      <td>4416</td>\n",
       "      <td>56676</td>\n",
       "      <td>1523</td>\n",
       "      <td>13973</td>\n",
       "      <td>870</td>\n",
       "      <td>...</td>\n",
       "      <td>10788</td>\n",
       "      <td>32496</td>\n",
       "      <td>8445</td>\n",
       "      <td>17480</td>\n",
       "      <td>95720</td>\n",
       "      <td>14265</td>\n",
       "      <td>0</td>\n",
       "      <td>69807</td>\n",
       "      <td>19209</td>\n",
       "      <td>1196</td>\n",
       "    </tr>\n",
       "    <tr>\n",
       "      <th>low-income medium family</th>\n",
       "      <td>42562</td>\n",
       "      <td>682</td>\n",
       "      <td>21631</td>\n",
       "      <td>177971</td>\n",
       "      <td>2765</td>\n",
       "      <td>4956</td>\n",
       "      <td>57888</td>\n",
       "      <td>1359</td>\n",
       "      <td>15359</td>\n",
       "      <td>734</td>\n",
       "      <td>...</td>\n",
       "      <td>11441</td>\n",
       "      <td>35004</td>\n",
       "      <td>8951</td>\n",
       "      <td>18923</td>\n",
       "      <td>100367</td>\n",
       "      <td>14651</td>\n",
       "      <td>0</td>\n",
       "      <td>70655</td>\n",
       "      <td>19796</td>\n",
       "      <td>1335</td>\n",
       "    </tr>\n",
       "    <tr>\n",
       "      <th>low-income small family</th>\n",
       "      <td>41661</td>\n",
       "      <td>759</td>\n",
       "      <td>21840</td>\n",
       "      <td>174251</td>\n",
       "      <td>2935</td>\n",
       "      <td>4907</td>\n",
       "      <td>59478</td>\n",
       "      <td>1863</td>\n",
       "      <td>14386</td>\n",
       "      <td>730</td>\n",
       "      <td>...</td>\n",
       "      <td>11562</td>\n",
       "      <td>34263</td>\n",
       "      <td>9062</td>\n",
       "      <td>17767</td>\n",
       "      <td>99705</td>\n",
       "      <td>15643</td>\n",
       "      <td>0</td>\n",
       "      <td>70399</td>\n",
       "      <td>19480</td>\n",
       "      <td>1129</td>\n",
       "    </tr>\n",
       "    <tr>\n",
       "      <th>other</th>\n",
       "      <td>70941</td>\n",
       "      <td>1154</td>\n",
       "      <td>37514</td>\n",
       "      <td>292881</td>\n",
       "      <td>4624</td>\n",
       "      <td>8217</td>\n",
       "      <td>89830</td>\n",
       "      <td>2661</td>\n",
       "      <td>26246</td>\n",
       "      <td>1109</td>\n",
       "      <td>...</td>\n",
       "      <td>20805</td>\n",
       "      <td>57446</td>\n",
       "      <td>14495</td>\n",
       "      <td>31434</td>\n",
       "      <td>171558</td>\n",
       "      <td>22742</td>\n",
       "      <td>14256</td>\n",
       "      <td>101730</td>\n",
       "      <td>33925</td>\n",
       "      <td>2103</td>\n",
       "    </tr>\n",
       "    <tr>\n",
       "      <th>retired less money</th>\n",
       "      <td>968387</td>\n",
       "      <td>16027</td>\n",
       "      <td>508538</td>\n",
       "      <td>4153655</td>\n",
       "      <td>64548</td>\n",
       "      <td>117313</td>\n",
       "      <td>1215420</td>\n",
       "      <td>41481</td>\n",
       "      <td>371083</td>\n",
       "      <td>16213</td>\n",
       "      <td>...</td>\n",
       "      <td>294316</td>\n",
       "      <td>808967</td>\n",
       "      <td>316729</td>\n",
       "      <td>454914</td>\n",
       "      <td>2375628</td>\n",
       "      <td>321504</td>\n",
       "      <td>184470</td>\n",
       "      <td>1382581</td>\n",
       "      <td>464266</td>\n",
       "      <td>30290</td>\n",
       "    </tr>\n",
       "    <tr>\n",
       "      <th>retired wealthy</th>\n",
       "      <td>399406</td>\n",
       "      <td>6312</td>\n",
       "      <td>211418</td>\n",
       "      <td>1719488</td>\n",
       "      <td>25756</td>\n",
       "      <td>48512</td>\n",
       "      <td>454001</td>\n",
       "      <td>18625</td>\n",
       "      <td>158994</td>\n",
       "      <td>5925</td>\n",
       "      <td>...</td>\n",
       "      <td>136237</td>\n",
       "      <td>338609</td>\n",
       "      <td>118771</td>\n",
       "      <td>195602</td>\n",
       "      <td>972729</td>\n",
       "      <td>128236</td>\n",
       "      <td>76986</td>\n",
       "      <td>449325</td>\n",
       "      <td>187730</td>\n",
       "      <td>11892</td>\n",
       "    </tr>\n",
       "    <tr>\n",
       "      <th>single adult</th>\n",
       "      <td>119538</td>\n",
       "      <td>1942</td>\n",
       "      <td>65012</td>\n",
       "      <td>513945</td>\n",
       "      <td>9705</td>\n",
       "      <td>14471</td>\n",
       "      <td>137618</td>\n",
       "      <td>5896</td>\n",
       "      <td>47346</td>\n",
       "      <td>1701</td>\n",
       "      <td>...</td>\n",
       "      <td>39377</td>\n",
       "      <td>101604</td>\n",
       "      <td>23563</td>\n",
       "      <td>59051</td>\n",
       "      <td>291400</td>\n",
       "      <td>38395</td>\n",
       "      <td>23930</td>\n",
       "      <td>132802</td>\n",
       "      <td>55844</td>\n",
       "      <td>3605</td>\n",
       "    </tr>\n",
       "  </tbody>\n",
       "</table>\n",
       "<p>12 rows × 21 columns</p>\n",
       "</div>"
      ],
      "text/plain": [
       "department_id                  1      2       3        4      5       6   \\\n",
       "profile                                                                    \n",
       "babies at home                  0      0       0        0      0       0   \n",
       "employees                       0      0       0        0      0       0   \n",
       "high-income big family     148269   2439   77995   635659  10908   17860   \n",
       "high-income medium family  144982   2187   78502   608801  10332   17318   \n",
       "high-income small family   147204   2368   77955   632094  10417   18021   \n",
       "low-income big family       38781    541   20423   170528   2637    4416   \n",
       "low-income medium family    42562    682   21631   177971   2765    4956   \n",
       "low-income small family     41661    759   21840   174251   2935    4907   \n",
       "other                       70941   1154   37514   292881   4624    8217   \n",
       "retired less money         968387  16027  508538  4153655  64548  117313   \n",
       "retired wealthy            399406   6312  211418  1719488  25756   48512   \n",
       "single adult               119538   1942   65012   513945   9705   14471   \n",
       "\n",
       "department_id                   7      8       9      10  ...      12      13  \\\n",
       "profile                                                   ...                   \n",
       "babies at home                   0      0       0      0  ...       0       0   \n",
       "employees                        0      0       0      0  ...       0       0   \n",
       "high-income big family      167832   7449   59156   1897  ...   50414  124562   \n",
       "high-income medium family   165516   5949   57340   2003  ...   49473  123306   \n",
       "high-income small family    167642   6254   58253   2269  ...   50368  126448   \n",
       "low-income big family        56676   1523   13973    870  ...   10788   32496   \n",
       "low-income medium family     57888   1359   15359    734  ...   11441   35004   \n",
       "low-income small family      59478   1863   14386    730  ...   11562   34263   \n",
       "other                        89830   2661   26246   1109  ...   20805   57446   \n",
       "retired less money         1215420  41481  371083  16213  ...  294316  808967   \n",
       "retired wealthy             454001  18625  158994   5925  ...  136237  338609   \n",
       "single adult                137618   5896   47346   1701  ...   39377  101604   \n",
       "\n",
       "department_id                  14      15       16      17      18       19  \\\n",
       "profile                                                                       \n",
       "babies at home                  0       0        0       0  110750        0   \n",
       "employees                   85455       0        0       0       0        0   \n",
       "high-income big family      28470   72922   359813   48501       0   164201   \n",
       "high-income medium family   27855   71086   351215   47357       0   160048   \n",
       "high-income small family    29054   72895   359047   48563       0   164858   \n",
       "low-income big family        8445   17480    95720   14265       0    69807   \n",
       "low-income medium family     8951   18923   100367   14651       0    70655   \n",
       "low-income small family      9062   17767    99705   15643       0    70399   \n",
       "other                       14495   31434   171558   22742   14256   101730   \n",
       "retired less money         316729  454914  2375628  321504  184470  1382581   \n",
       "retired wealthy            118771  195602   972729  128236   76986   449325   \n",
       "single adult                23563   59051   291400   38395   23930   132802   \n",
       "\n",
       "department_id                  20     21  \n",
       "profile                                   \n",
       "babies at home                  0      0  \n",
       "employees                       0      0  \n",
       "high-income big family      68441   4194  \n",
       "high-income medium family   68210   4324  \n",
       "high-income small family    66933   4700  \n",
       "low-income big family       19209   1196  \n",
       "low-income medium family    19796   1335  \n",
       "low-income small family     19480   1129  \n",
       "other                       33925   2103  \n",
       "retired less money         464266  30290  \n",
       "retired wealthy            187730  11892  \n",
       "single adult                55844   3605  \n",
       "\n",
       "[12 rows x 21 columns]"
      ]
     },
     "execution_count": 112,
     "metadata": {},
     "output_type": "execute_result"
    }
   ],
   "source": [
    "crosstab_department"
   ]
  },
  {
   "cell_type": "code",
   "execution_count": 117,
   "id": "25e3984b",
   "metadata": {
    "scrolled": true
   },
   "outputs": [
    {
     "data": {
      "text/plain": [
       "([<matplotlib.axis.XTick at 0x234c94d53d0>,\n",
       "  <matplotlib.axis.XTick at 0x234c94d5400>,\n",
       "  <matplotlib.axis.XTick at 0x234c94d6a60>,\n",
       "  <matplotlib.axis.XTick at 0x234c94d95b0>,\n",
       "  <matplotlib.axis.XTick at 0x233615bd220>,\n",
       "  <matplotlib.axis.XTick at 0x233615ce580>,\n",
       "  <matplotlib.axis.XTick at 0x233615cecd0>,\n",
       "  <matplotlib.axis.XTick at 0x233615cea90>,\n",
       "  <matplotlib.axis.XTick at 0x23361425f40>,\n",
       "  <matplotlib.axis.XTick at 0x233615d4820>,\n",
       "  <matplotlib.axis.XTick at 0x233615dc040>,\n",
       "  <matplotlib.axis.XTick at 0x233615dc700>],\n",
       " [Text(0, 0, 'babies\\nat home '),\n",
       "  Text(1, 0, 'employees'),\n",
       "  Text(2, 0, 'high-income\\nbig family'),\n",
       "  Text(3, 0, 'high-income\\nmedium family'),\n",
       "  Text(4, 0, 'high-income\\nsmall family'),\n",
       "  Text(5, 0, 'low-income\\nbig family'),\n",
       "  Text(6, 0, 'low-income\\nmedium family '),\n",
       "  Text(7, 0, 'low-income\\nsmall family '),\n",
       "  Text(8, 0, 'other'),\n",
       "  Text(9, 0, 'retired\\nless money'),\n",
       "  Text(10, 0, 'retired\\nwealthy'),\n",
       "  Text(11, 0, 'single adult')])"
      ]
     },
     "execution_count": 117,
     "metadata": {},
     "output_type": "execute_result"
    },
    {
     "data": {
      "image/png": "[encoded data removed]",
      "text/plain": [
       "<Figure size 2000x500 with 1 Axes>"
      ]
     },
     "metadata": {},
     "output_type": "display_data"
    }
   ],
   "source": [
    "# Creating stacked bar graph to plot profile for regions\n",
    "bar_profile_region = crosstab_region.loc[:,['Midwest','Northeast','South','West']].apply(lambda x: x*100/sum(x), axis=1).plot.bar(stacked=True, rot=0, figsize=(20,5), colormap='tab20c').legend(title=\"Region\", bbox_to_anchor=(1.0,1.0))\n",
    "plt.xlabel(\"\")\n",
    "plt.ylabel(\"% of orders by region\")\n",
    "plt.title (\"Instacart orders by profile and region\")\n",
    "plt.xticks([0,1,2,3,4,5,6,7,8,9,10,11],['babies\\nat home ','employees','high-income\\nbig family','high-income\\nmedium family','high-income\\nsmall family','low-income\\nbig family','low-income\\nmedium family ','low-income\\nsmall family ','other','retired\\nless money','retired\\nwealthy', 'single adult'])"
   ]
  },
  {
   "cell_type": "code",
   "execution_count": 121,
   "id": "e78dfde4",
   "metadata": {},
   "outputs": [],
   "source": [
    "# exporting bar chart\n",
    "bar_profile_region.figure.savefig(os.path.join(path, '04 Analysis', 'Visualizations', 'profile_region.png'), bbox_inches='tight')"
   ]
  },
  {
   "cell_type": "code",
   "execution_count": 128,
   "id": "5b670a67",
   "metadata": {},
   "outputs": [
    {
     "data": {
      "text/plain": [
       "([<matplotlib.axis.XTick at 0x23362130070>,\n",
       "  <matplotlib.axis.XTick at 0x233621306d0>,\n",
       "  <matplotlib.axis.XTick at 0x233637f20a0>,\n",
       "  <matplotlib.axis.XTick at 0x233638b8040>,\n",
       "  <matplotlib.axis.XTick at 0x233638b8640>,\n",
       "  <matplotlib.axis.XTick at 0x233638b8d90>,\n",
       "  <matplotlib.axis.XTick at 0x233638bd520>,\n",
       "  <matplotlib.axis.XTick at 0x233638bdc70>,\n",
       "  <matplotlib.axis.XTick at 0x23363645ee0>,\n",
       "  <matplotlib.axis.XTick at 0x233638bda30>,\n",
       "  <matplotlib.axis.XTick at 0x233638b8a00>,\n",
       "  <matplotlib.axis.XTick at 0x233638c3070>],\n",
       " [Text(0, 0, 'babies\\nat home '),\n",
       "  Text(1, 0, 'employees'),\n",
       "  Text(2, 0, 'high-income\\nbig family'),\n",
       "  Text(3, 0, 'high-income\\nmedium family'),\n",
       "  Text(4, 0, 'high-income\\nsmall family'),\n",
       "  Text(5, 0, 'low-income\\nbig family'),\n",
       "  Text(6, 0, 'low-income\\nmedium family '),\n",
       "  Text(7, 0, 'low-income\\nsmall family '),\n",
       "  Text(8, 0, 'other'),\n",
       "  Text(9, 0, 'retired\\nless money'),\n",
       "  Text(10, 0, 'retired\\nwealthy'),\n",
       "  Text(11, 0, 'single adult')])"
      ]
     },
     "execution_count": 128,
     "metadata": {},
     "output_type": "execute_result"
    },
    {
     "data": {
      "image/png": "[encoded data removed]",
      "text/plain": [
       "<Figure size 2000x500 with 1 Axes>"
      ]
     },
     "metadata": {},
     "output_type": "display_data"
    }
   ],
   "source": [
    "##### Creating stacked bar graph to plot profile for department\n",
    "bar_profile_department = crosstab_department.loc[:,[1,2,3,4,5,6,7,8,9,10,11,12,13,14,15,16,17,18,19,20,21]].apply(lambda x: x*100/sum(x), axis=1).plot.bar(stacked=True, rot=0, figsize=(20,5), colormap='tab20c').legend(title=\"Dept ID\", bbox_to_anchor=(1.0,1.0))\n",
    "plt.xlabel(\"\")\n",
    "plt.ylabel(\"% of orders by Department\")\n",
    "plt.title (\"Instacart orders by profile and department\")\n",
    "plt.xticks([0,1,2,3,4,5,6,7,8,9,10,11],['babies\\nat home ','employees','high-income\\nbig family','high-income\\nmedium family','high-income\\nsmall family','low-income\\nbig family','low-income\\nmedium family ','low-income\\nsmall family ','other','retired\\nless money','retired\\nwealthy', 'single adult'])\n"
   ]
  },
  {
   "cell_type": "markdown",
   "id": "5d73db15",
   "metadata": {},
   "source": [
    "### Extra plots"
   ]
  },
  {
   "cell_type": "markdown",
   "id": "d8df0a27",
   "metadata": {},
   "source": [
    "### Are there differences in ordering habits based on a customer’s region?"
   ]
  },
  {
   "cell_type": "code",
   "execution_count": 5,
   "id": "be3d47f5",
   "metadata": {},
   "outputs": [],
   "source": [
    "# creating a crosstab to compare different orders by region and price range\n",
    "crosstab_orders_regions1 = pd.crosstab(df_2['region'], df_2['price_range_loc'], dropna = False)"
   ]
  },
  {
   "cell_type": "code",
   "execution_count": 6,
   "id": "01979103",
   "metadata": {},
   "outputs": [
    {
     "data": {
      "text/html": [
       "<div>\n",
       "<style scoped>\n",
       "    .dataframe tbody tr th:only-of-type {\n",
       "        vertical-align: middle;\n",
       "    }\n",
       "\n",
       "    .dataframe tbody tr th {\n",
       "        vertical-align: top;\n",
       "    }\n",
       "\n",
       "    .dataframe thead th {\n",
       "        text-align: right;\n",
       "    }\n",
       "</style>\n",
       "<table border=\"1\" class=\"dataframe\">\n",
       "  <thead>\n",
       "    <tr style=\"text-align: right;\">\n",
       "      <th>price_range_loc</th>\n",
       "      <th>High-range product</th>\n",
       "      <th>Low-range product</th>\n",
       "      <th>Mid-range product</th>\n",
       "    </tr>\n",
       "    <tr>\n",
       "      <th>region</th>\n",
       "      <th></th>\n",
       "      <th></th>\n",
       "      <th></th>\n",
       "    </tr>\n",
       "  </thead>\n",
       "  <tbody>\n",
       "    <tr>\n",
       "      <th>Midwest</th>\n",
       "      <td>93280</td>\n",
       "      <td>2267085</td>\n",
       "      <td>4901148</td>\n",
       "    </tr>\n",
       "    <tr>\n",
       "      <th>Northeast</th>\n",
       "      <td>69732</td>\n",
       "      <td>1712360</td>\n",
       "      <td>3682593</td>\n",
       "    </tr>\n",
       "    <tr>\n",
       "      <th>South</th>\n",
       "      <td>132661</td>\n",
       "      <td>3217500</td>\n",
       "      <td>6960978</td>\n",
       "    </tr>\n",
       "    <tr>\n",
       "      <th>West</th>\n",
       "      <td>102280</td>\n",
       "      <td>2477895</td>\n",
       "      <td>5347052</td>\n",
       "    </tr>\n",
       "  </tbody>\n",
       "</table>\n",
       "</div>"
      ],
      "text/plain": [
       "price_range_loc  High-range product  Low-range product  Mid-range product\n",
       "region                                                                   \n",
       "Midwest                       93280            2267085            4901148\n",
       "Northeast                     69732            1712360            3682593\n",
       "South                        132661            3217500            6960978\n",
       "West                         102280            2477895            5347052"
      ]
     },
     "execution_count": 6,
     "metadata": {},
     "output_type": "execute_result"
    }
   ],
   "source": [
    "crosstab_orders_regions1"
   ]
  },
  {
   "cell_type": "code",
   "execution_count": 8,
   "id": "1ead71ce",
   "metadata": {},
   "outputs": [
    {
     "data": {
      "text/plain": [
       "Text(0.5, 1.0, 'Instacart orders by region and price range groupings')"
      ]
     },
     "execution_count": 8,
     "metadata": {},
     "output_type": "execute_result"
    },
    {
     "data": {
      "image/png": "[encoded data removed]",
      "text/plain": [
       "<Figure size 1000x500 with 1 Axes>"
      ]
     },
     "metadata": {},
     "output_type": "display_data"
    }
   ],
   "source": [
    "#creating a bar chart\n",
    "barchart_price_region1 = crosstab_orders_regions1.iloc[:,[0,1,2]].plot.bar(rot=0, figsize=(10,5), colormap='tab10').legend(title=\"Price Range\", bbox_to_anchor=(1.0,1.0))\n",
    "plt.xlabel(\"\")\n",
    "plt.ylabel(\"Orders placed (in million)\")\n",
    "plt.title (\"Instacart orders by region and price range groupings\")"
   ]
  },
  {
   "cell_type": "code",
   "execution_count": 10,
   "id": "1f3609a3",
   "metadata": {},
   "outputs": [],
   "source": [
    "# creating a crosstab to compare different orders by region and loyalty\n",
    "crosstab_orders_regions1 = pd.crosstab(df_2['region'], df_2['loyalty_flag'], dropna = False)"
   ]
  },
  {
   "cell_type": "code",
   "execution_count": 11,
   "id": "3f9933f0",
   "metadata": {},
   "outputs": [
    {
     "data": {
      "text/html": [
       "<div>\n",
       "<style scoped>\n",
       "    .dataframe tbody tr th:only-of-type {\n",
       "        vertical-align: middle;\n",
       "    }\n",
       "\n",
       "    .dataframe tbody tr th {\n",
       "        vertical-align: top;\n",
       "    }\n",
       "\n",
       "    .dataframe thead th {\n",
       "        text-align: right;\n",
       "    }\n",
       "</style>\n",
       "<table border=\"1\" class=\"dataframe\">\n",
       "  <thead>\n",
       "    <tr style=\"text-align: right;\">\n",
       "      <th>loyalty_flag</th>\n",
       "      <th>Loyal customer</th>\n",
       "      <th>New customer</th>\n",
       "      <th>Regular customer</th>\n",
       "    </tr>\n",
       "    <tr>\n",
       "      <th>region</th>\n",
       "      <th></th>\n",
       "      <th></th>\n",
       "      <th></th>\n",
       "    </tr>\n",
       "  </thead>\n",
       "  <tbody>\n",
       "    <tr>\n",
       "      <th>Midwest</th>\n",
       "      <td>2373774</td>\n",
       "      <td>1136761</td>\n",
       "      <td>3750978</td>\n",
       "    </tr>\n",
       "    <tr>\n",
       "      <th>Northeast</th>\n",
       "      <td>1841785</td>\n",
       "      <td>842156</td>\n",
       "      <td>2780744</td>\n",
       "    </tr>\n",
       "    <tr>\n",
       "      <th>South</th>\n",
       "      <td>3405844</td>\n",
       "      <td>1593664</td>\n",
       "      <td>5311631</td>\n",
       "    </tr>\n",
       "    <tr>\n",
       "      <th>West</th>\n",
       "      <td>2662690</td>\n",
       "      <td>1231114</td>\n",
       "      <td>4033423</td>\n",
       "    </tr>\n",
       "  </tbody>\n",
       "</table>\n",
       "</div>"
      ],
      "text/plain": [
       "loyalty_flag  Loyal customer  New customer  Regular customer\n",
       "region                                                      \n",
       "Midwest              2373774       1136761           3750978\n",
       "Northeast            1841785        842156           2780744\n",
       "South                3405844       1593664           5311631\n",
       "West                 2662690       1231114           4033423"
      ]
     },
     "execution_count": 11,
     "metadata": {},
     "output_type": "execute_result"
    }
   ],
   "source": [
    "crosstab_orders_regions1"
   ]
  },
  {
   "cell_type": "code",
   "execution_count": 12,
   "id": "8431a9fa",
   "metadata": {},
   "outputs": [
    {
     "data": {
      "text/plain": [
       "Text(0.5, 1.0, 'Instacart orders by region and loyalty groupings')"
      ]
     },
     "execution_count": 12,
     "metadata": {},
     "output_type": "execute_result"
    },
    {
     "data": {
      "image/png": "[encoded data removed]",
      "text/plain": [
       "<Figure size 1000x500 with 1 Axes>"
      ]
     },
     "metadata": {},
     "output_type": "display_data"
    }
   ],
   "source": [
    "#creating a bar chart\n",
    "barchart_loyalty_region1 = crosstab_orders_regions1.iloc[:,[0,1,2]].plot.bar(rot=0, figsize=(10,5), colormap='tab10').legend(title=\"Customer\", bbox_to_anchor=(1.0,1.0))\n",
    "plt.xlabel(\"\")\n",
    "plt.ylabel(\"Orders placed (in million)\")\n",
    "plt.title (\"Instacart orders by region and loyalty groupings\")"
   ]
  },
  {
   "cell_type": "markdown",
   "id": "b9dab193",
   "metadata": {},
   "source": [
    "### What different classifications does the demographic information suggest? Age? Income? Certain types of goods? Family status?\n"
   ]
  },
  {
   "cell_type": "markdown",
   "id": "521943d8",
   "metadata": {},
   "source": [
    "##### Creating age categories"
   ]
  },
  {
   "cell_type": "code",
   "execution_count": 45,
   "id": "657cb104",
   "metadata": {},
   "outputs": [],
   "source": [
    "# creating age categories\n",
    "df_2.loc[(df_2['age'] ==18) & (df_2['age'] < 25), 'age_flag'] = 'Youth (15-24 years)'\n",
    "df_2.loc[(df_2['age'] ==25) & (df_2['age'] < 45), 'age_flag'] = 'Adult I (25-44 years)'\n",
    "df_2.loc[(df_2['age'] ==44) & (df_2['age'] < 65), 'age_flag'] = 'Adult II (45-64 years)'\n",
    "df_2.loc[(df_2['age'] > 64), 'age_flag'] = 'Seniors (65 years and over)'"
   ]
  },
  {
   "cell_type": "code",
   "execution_count": 46,
   "id": "d7e09e03",
   "metadata": {},
   "outputs": [
    {
     "data": {
      "text/plain": [
       "Seniors (65 years and over)    8195544\n",
       "Adult II (45-64 years)          494457\n",
       "Youth (15-24 years)             478457\n",
       "Adult I (25-44 years)           449324\n",
       "Name: age_flag, dtype: int64"
      ]
     },
     "execution_count": 46,
     "metadata": {},
     "output_type": "execute_result"
    }
   ],
   "source": [
    "df_2['age_flag'].value_counts()"
   ]
  },
  {
   "cell_type": "code",
   "execution_count": 71,
   "id": "a0a57ca2",
   "metadata": {},
   "outputs": [
    {
     "data": {
      "text/plain": [
       "Text(0.5, 1.0, 'Instacart income for differente profiles')"
      ]
     },
     "execution_count": 71,
     "metadata": {},
     "output_type": "execute_result"
    },
    {
     "data": {
      "image/png": "[encoded data removed]",
      "text/plain": [
       "<Figure size 1170x827 with 1 Axes>"
      ]
     },
     "metadata": {},
     "output_type": "display_data"
    }
   ],
   "source": [
    "sns.set(font_scale=1.3)\n",
    "boxplot_profile_income = sns.boxplot(x='profile',\n",
    "                y='income',\n",
    "                data=df_2)\n",
    "plt.xticks(rotation=90)\n",
    "plt.title (\"Instacart income for differente profiles\")"
   ]
  },
  {
   "cell_type": "code",
   "execution_count": 72,
   "id": "879b78b9",
   "metadata": {},
   "outputs": [
    {
     "data": {
      "text/plain": [
       "Text(0.5, 1.0, 'Instacart income for differente ages')"
      ]
     },
     "execution_count": 72,
     "metadata": {},
     "output_type": "execute_result"
    },
    {
     "data": {
      "image/png": "[encoded data removed]",
      "text/plain": [
       "<Figure size 1170x827 with 1 Axes>"
      ]
     },
     "metadata": {},
     "output_type": "display_data"
    }
   ],
   "source": [
    "sns.set(font_scale=1.3)\n",
    "boxplot_profile_age = sns.boxplot(x='profile',\n",
    "                y='age',\n",
    "                data=df_2)\n",
    "plt.xticks(rotation=90)\n",
    "plt.title (\"Instacart income for differente ages\")"
   ]
  },
  {
   "cell_type": "code",
   "execution_count": 76,
   "id": "07d40945",
   "metadata": {},
   "outputs": [],
   "source": [
    "# creating a crosstab to compare different orders by region and loyalty\n",
    "crosstab_profile_family = pd.crosstab(df_2['profile'], df_2['family_status'], dropna = False)"
   ]
  },
  {
   "cell_type": "code",
   "execution_count": 77,
   "id": "bf967d4d",
   "metadata": {},
   "outputs": [
    {
     "data": {
      "text/html": [
       "<div>\n",
       "<style scoped>\n",
       "    .dataframe tbody tr th:only-of-type {\n",
       "        vertical-align: middle;\n",
       "    }\n",
       "\n",
       "    .dataframe tbody tr th {\n",
       "        vertical-align: top;\n",
       "    }\n",
       "\n",
       "    .dataframe thead th {\n",
       "        text-align: right;\n",
       "    }\n",
       "</style>\n",
       "<table border=\"1\" class=\"dataframe\">\n",
       "  <thead>\n",
       "    <tr style=\"text-align: right;\">\n",
       "      <th>family_status</th>\n",
       "      <th>divorced/widowed</th>\n",
       "      <th>living with parents and siblings</th>\n",
       "      <th>married</th>\n",
       "      <th>single</th>\n",
       "    </tr>\n",
       "    <tr>\n",
       "      <th>profile</th>\n",
       "      <th></th>\n",
       "      <th></th>\n",
       "      <th></th>\n",
       "      <th></th>\n",
       "    </tr>\n",
       "  </thead>\n",
       "  <tbody>\n",
       "    <tr>\n",
       "      <th>babies at home</th>\n",
       "      <td>0</td>\n",
       "      <td>480</td>\n",
       "      <td>110270</td>\n",
       "      <td>0</td>\n",
       "    </tr>\n",
       "    <tr>\n",
       "      <th>employees</th>\n",
       "      <td>8410</td>\n",
       "      <td>0</td>\n",
       "      <td>64019</td>\n",
       "      <td>13026</td>\n",
       "    </tr>\n",
       "    <tr>\n",
       "      <th>high-income big family</th>\n",
       "      <td>0</td>\n",
       "      <td>15594</td>\n",
       "      <td>2064930</td>\n",
       "      <td>0</td>\n",
       "    </tr>\n",
       "    <tr>\n",
       "      <th>high-income medium family</th>\n",
       "      <td>0</td>\n",
       "      <td>14364</td>\n",
       "      <td>2010234</td>\n",
       "      <td>0</td>\n",
       "    </tr>\n",
       "    <tr>\n",
       "      <th>high-income small family</th>\n",
       "      <td>0</td>\n",
       "      <td>17110</td>\n",
       "      <td>2057425</td>\n",
       "      <td>0</td>\n",
       "    </tr>\n",
       "    <tr>\n",
       "      <th>low-income big family</th>\n",
       "      <td>0</td>\n",
       "      <td>0</td>\n",
       "      <td>587826</td>\n",
       "      <td>0</td>\n",
       "    </tr>\n",
       "    <tr>\n",
       "      <th>low-income medium family</th>\n",
       "      <td>0</td>\n",
       "      <td>0</td>\n",
       "      <td>615776</td>\n",
       "      <td>0</td>\n",
       "    </tr>\n",
       "    <tr>\n",
       "      <th>low-income small family</th>\n",
       "      <td>0</td>\n",
       "      <td>0</td>\n",
       "      <td>610234</td>\n",
       "      <td>0</td>\n",
       "    </tr>\n",
       "    <tr>\n",
       "      <th>other</th>\n",
       "      <td>1019630</td>\n",
       "      <td>0</td>\n",
       "      <td>364</td>\n",
       "      <td>0</td>\n",
       "    </tr>\n",
       "    <tr>\n",
       "      <th>retired less money</th>\n",
       "      <td>197171</td>\n",
       "      <td>1433624</td>\n",
       "      <td>9300930</td>\n",
       "      <td>3371656</td>\n",
       "    </tr>\n",
       "    <tr>\n",
       "      <th>retired wealthy</th>\n",
       "      <td>1420060</td>\n",
       "      <td>0</td>\n",
       "      <td>4321703</td>\n",
       "      <td>0</td>\n",
       "    </tr>\n",
       "    <tr>\n",
       "      <th>single adult</th>\n",
       "      <td>0</td>\n",
       "      <td>0</td>\n",
       "      <td>0</td>\n",
       "      <td>1709728</td>\n",
       "    </tr>\n",
       "  </tbody>\n",
       "</table>\n",
       "</div>"
      ],
      "text/plain": [
       "family_status              divorced/widowed  living with parents and siblings  \\\n",
       "profile                                                                         \n",
       "babies at home                            0                               480   \n",
       "employees                              8410                                 0   \n",
       "high-income big family                    0                             15594   \n",
       "high-income medium family                 0                             14364   \n",
       "high-income small family                  0                             17110   \n",
       "low-income big family                     0                                 0   \n",
       "low-income medium family                  0                                 0   \n",
       "low-income small family                   0                                 0   \n",
       "other                               1019630                                 0   \n",
       "retired less money                   197171                           1433624   \n",
       "retired wealthy                     1420060                                 0   \n",
       "single adult                              0                                 0   \n",
       "\n",
       "family_status              married   single  \n",
       "profile                                      \n",
       "babies at home              110270        0  \n",
       "employees                    64019    13026  \n",
       "high-income big family     2064930        0  \n",
       "high-income medium family  2010234        0  \n",
       "high-income small family   2057425        0  \n",
       "low-income big family       587826        0  \n",
       "low-income medium family    615776        0  \n",
       "low-income small family     610234        0  \n",
       "other                          364        0  \n",
       "retired less money         9300930  3371656  \n",
       "retired wealthy            4321703        0  \n",
       "single adult                     0  1709728  "
      ]
     },
     "execution_count": 77,
     "metadata": {},
     "output_type": "execute_result"
    }
   ],
   "source": [
    "crosstab_profile_family"
   ]
  },
  {
   "cell_type": "code",
   "execution_count": 82,
   "id": "28bc7594",
   "metadata": {},
   "outputs": [
    {
     "data": {
      "text/plain": [
       "([<matplotlib.axis.XTick at 0x29cd1cec490>,\n",
       "  <matplotlib.axis.XTick at 0x29cd1cec460>,\n",
       "  <matplotlib.axis.XTick at 0x29cccd01df0>,\n",
       "  <matplotlib.axis.XTick at 0x29cc785fc10>,\n",
       "  <matplotlib.axis.XTick at 0x29cc74923a0>,\n",
       "  <matplotlib.axis.XTick at 0x29cc7492af0>,\n",
       "  <matplotlib.axis.XTick at 0x29cc7493280>,\n",
       "  <matplotlib.axis.XTick at 0x29cc74939d0>,\n",
       "  <matplotlib.axis.XTick at 0x29cd47d6a00>,\n",
       "  <matplotlib.axis.XTick at 0x29cc7492a60>,\n",
       "  <matplotlib.axis.XTick at 0x29cc69a1100>,\n",
       "  <matplotlib.axis.XTick at 0x29cc69a1880>],\n",
       " [Text(0, 0, 'babies\\nat home '),\n",
       "  Text(1, 0, 'employees'),\n",
       "  Text(2, 0, 'high-income\\nbig family'),\n",
       "  Text(3, 0, 'high-income\\nmedium family'),\n",
       "  Text(4, 0, 'high-income\\nsmall family'),\n",
       "  Text(5, 0, 'low-income\\nbig family'),\n",
       "  Text(6, 0, 'low-income\\nmedium family '),\n",
       "  Text(7, 0, 'low-income\\nsmall family '),\n",
       "  Text(8, 0, 'other'),\n",
       "  Text(9, 0, 'retired\\nless money'),\n",
       "  Text(10, 0, 'retired\\nwealthy'),\n",
       "  Text(11, 0, 'single adult')])"
      ]
     },
     "execution_count": 82,
     "metadata": {},
     "output_type": "execute_result"
    },
    {
     "data": {
      "image/png": "[encoded data removed]",
      "text/plain": [
       "<Figure size 2000x500 with 1 Axes>"
      ]
     },
     "metadata": {},
     "output_type": "display_data"
    }
   ],
   "source": [
    "# Creating stacked bar graph to plot profile for family status\n",
    "bar_profile_family = crosstab_profile_family.loc[:,['divorced/widowed','living with parents and siblings','married','single']].apply(lambda x: x*100/sum(x), axis=1).plot.bar(stacked=True, rot=0, figsize=(20,5), colormap='tab20c').legend(title=\"Family status\", bbox_to_anchor=(1.0,1.0))\n",
    "plt.xlabel(\"\")\n",
    "plt.ylabel(\"Frequency\")\n",
    "plt.title (\"Instacart orders by profile and family status\")\n",
    "plt.xticks([0,1,2,3,4,5,6,7,8,9,10,11],['babies\\nat home ','employees','high-income\\nbig family','high-income\\nmedium family','high-income\\nsmall family','low-income\\nbig family','low-income\\nmedium family ','low-income\\nsmall family ','other','retired\\nless money','retired\\nwealthy', 'single adult'])"
   ]
  },
  {
   "cell_type": "markdown",
   "id": "c172695e",
   "metadata": {},
   "source": [
    "### Saving plots"
   ]
  },
  {
   "cell_type": "code",
   "execution_count": 62,
   "id": "93fbc203",
   "metadata": {
    "collapsed": true
   },
   "outputs": [
    {
     "ename": "NameError",
     "evalue": "name 'bar_profile_department' is not defined",
     "output_type": "error",
     "traceback": [
      "\u001b[1;31m---------------------------------------------------------------------------\u001b[0m",
      "\u001b[1;31mNameError\u001b[0m                                 Traceback (most recent call last)",
      "\u001b[1;32m~\\AppData\\Local\\Temp\\ipykernel_1676\\1229757065.py\u001b[0m in \u001b[0;36m<module>\u001b[1;34m\u001b[0m\n\u001b[0;32m      1\u001b[0m \u001b[1;31m# exporting bar chart\u001b[0m\u001b[1;33m\u001b[0m\u001b[1;33m\u001b[0m\u001b[0m\n\u001b[1;32m----> 2\u001b[1;33m \u001b[0mbar_profile_department\u001b[0m\u001b[1;33m.\u001b[0m\u001b[0mfigure\u001b[0m\u001b[1;33m.\u001b[0m\u001b[0msavefig\u001b[0m\u001b[1;33m(\u001b[0m\u001b[0mos\u001b[0m\u001b[1;33m.\u001b[0m\u001b[0mpath\u001b[0m\u001b[1;33m.\u001b[0m\u001b[0mjoin\u001b[0m\u001b[1;33m(\u001b[0m\u001b[0mpath\u001b[0m\u001b[1;33m,\u001b[0m \u001b[1;34m'04 Analysis'\u001b[0m\u001b[1;33m,\u001b[0m \u001b[1;34m'Visualizations'\u001b[0m\u001b[1;33m,\u001b[0m \u001b[1;34m'profile_department.png'\u001b[0m\u001b[1;33m)\u001b[0m\u001b[1;33m,\u001b[0m \u001b[0mbbox_inches\u001b[0m\u001b[1;33m=\u001b[0m\u001b[1;34m'tight'\u001b[0m\u001b[1;33m)\u001b[0m\u001b[1;33m\u001b[0m\u001b[1;33m\u001b[0m\u001b[0m\n\u001b[0m",
      "\u001b[1;31mNameError\u001b[0m: name 'bar_profile_department' is not defined"
     ]
    }
   ],
   "source": [
    "# exporting bar chart\n",
    "bar_profile_department.figure.savefig(os.path.join(path, '04 Analysis', 'Visualizations', 'profile_department.png'), bbox_inches='tight')"
   ]
  },
  {
   "cell_type": "code",
   "execution_count": 63,
   "id": "d4635d85",
   "metadata": {},
   "outputs": [],
   "source": [
    "barchart_price_region1.figure.savefig(os.path.join(path, '04 Analysis', 'Visualizations', 'barchart_price_region1.png'), bbox_inches='tight')"
   ]
  },
  {
   "cell_type": "code",
   "execution_count": 64,
   "id": "6a4a29b5",
   "metadata": {},
   "outputs": [],
   "source": [
    "barchart_loyalty_region1.figure.savefig(os.path.join(path, '04 Analysis', 'Visualizations', 'barchart_loyalty_region1.png'), bbox_inches='tight')"
   ]
  },
  {
   "cell_type": "code",
   "execution_count": 73,
   "id": "06896a40",
   "metadata": {},
   "outputs": [],
   "source": [
    "boxplot_profile_income.figure.savefig(os.path.join(path, '04 Analysis', 'Visualizations', 'boxplot_profile_income.png'), bbox_inches='tight')"
   ]
  },
  {
   "cell_type": "code",
   "execution_count": 74,
   "id": "541e6a41",
   "metadata": {},
   "outputs": [],
   "source": [
    "boxplot_profile_age.figure.savefig(os.path.join(path, '04 Analysis', 'Visualizations', 'boxplot_profile_age.png'), bbox_inches='tight')"
   ]
  },
  {
   "cell_type": "code",
   "execution_count": 83,
   "id": "3950b50b",
   "metadata": {},
   "outputs": [],
   "source": [
    "bar_profile_family.figure.savefig(os.path.join(path, '04 Analysis', 'Visualizations', 'bar_profile_family.png'), bbox_inches='tight')"
   ]
  },
  {
   "cell_type": "markdown",
   "id": "11c8fd44",
   "metadata": {},
   "source": [
    "### 9. Exporting dataset"
   ]
  },
  {
   "cell_type": "code",
   "execution_count": 129,
   "id": "896a5c58",
   "metadata": {},
   "outputs": [],
   "source": [
    "# Export data frame with new variable profile\n",
    "df_2.to_pickle(os.path.join(path, '02 Data', 'Prepared Data', 'df_high_activity_customers_profile.pkl'))"
   ]
  }
 ],
 "metadata": {
  "kernelspec": {
   "display_name": "Python 3 (ipykernel)",
   "language": "python",
   "name": "python3"
  },
  "language_info": {
   "codemirror_mode": {
    "name": "ipython",
    "version": 3
   },
   "file_extension": ".py",
   "mimetype": "text/x-python",
   "name": "python",
   "nbconvert_exporter": "python",
   "pygments_lexer": "ipython3",
   "version": "3.9.13"
  }
 },
 "nbformat": 4,
 "nbformat_minor": 5
}
