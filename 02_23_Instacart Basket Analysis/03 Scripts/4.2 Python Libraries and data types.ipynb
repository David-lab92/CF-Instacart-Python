{
 "cells": [
  {
   "cell_type": "markdown",
   "id": "915ffbae",
   "metadata": {},
   "source": [
    "# 01 Importing libraries "
   ]
  },
  {
   "cell_type": "code",
   "execution_count": 35,
   "id": "ae6e9ece",
   "metadata": {},
   "outputs": [],
   "source": [
    "## Importing pandas, numpy and os\n",
    "import pandas as pd\n",
    "import numpy as np\n",
    "import os"
   ]
  },
  {
   "cell_type": "markdown",
   "id": "f5a3cb8d",
   "metadata": {},
   "source": [
    "# 02 Python data types"
   ]
  },
  {
   "cell_type": "markdown",
   "id": "36e24356",
   "metadata": {},
   "source": [
    "#### Code 3 different ways of reaching a result of 100 by adding or subtracting numeric variables"
   ]
  },
  {
   "cell_type": "code",
   "execution_count": 4,
   "id": "27139d9b",
   "metadata": {},
   "outputs": [
    {
     "name": "stdout",
     "output_type": "stream",
     "text": [
      "100\n"
     ]
    }
   ],
   "source": [
    "x1=75+25\n",
    "print(x1)"
   ]
  },
  {
   "cell_type": "code",
   "execution_count": 5,
   "id": "7bf1ad69",
   "metadata": {},
   "outputs": [
    {
     "name": "stdout",
     "output_type": "stream",
     "text": [
      "100\n"
     ]
    }
   ],
   "source": [
    "x2=250-150\n",
    "print(x2)"
   ]
  },
  {
   "cell_type": "code",
   "execution_count": 6,
   "id": "41238f02",
   "metadata": {},
   "outputs": [
    {
     "name": "stdout",
     "output_type": "stream",
     "text": [
      "100\n"
     ]
    }
   ],
   "source": [
    "x3=200-100\n",
    "print(x3)"
   ]
  },
  {
   "cell_type": "markdown",
   "id": "cee59839",
   "metadata": {},
   "source": [
    "#### Code 2 floating-point variables and divide them by each other."
   ]
  },
  {
   "cell_type": "code",
   "execution_count": 8,
   "id": "29978425",
   "metadata": {},
   "outputs": [],
   "source": [
    "f1=2.4"
   ]
  },
  {
   "cell_type": "code",
   "execution_count": 9,
   "id": "72fb6a65",
   "metadata": {},
   "outputs": [],
   "source": [
    "f2=34.5"
   ]
  },
  {
   "cell_type": "code",
   "execution_count": 14,
   "id": "b31b5f2a",
   "metadata": {},
   "outputs": [
    {
     "name": "stdout",
     "output_type": "stream",
     "text": [
      "14.375\n"
     ]
    }
   ],
   "source": [
    "fr=f2/f1\n",
    "print(fr)"
   ]
  },
  {
   "cell_type": "markdown",
   "id": "6bfdbe0d",
   "metadata": {},
   "source": [
    "#### Construct a short word made of separate strings (you’ll need to concatenate some strings!)."
   ]
  },
  {
   "cell_type": "code",
   "execution_count": 15,
   "id": "362a16e9",
   "metadata": {},
   "outputs": [],
   "source": [
    "s1='Land'"
   ]
  },
  {
   "cell_type": "code",
   "execution_count": 16,
   "id": "39e9e7b5",
   "metadata": {},
   "outputs": [],
   "source": [
    "s2='scape'"
   ]
  },
  {
   "cell_type": "code",
   "execution_count": 17,
   "id": "4c99911a",
   "metadata": {},
   "outputs": [
    {
     "data": {
      "text/plain": [
       "'Landscape'"
      ]
     },
     "execution_count": 17,
     "metadata": {},
     "output_type": "execute_result"
    }
   ],
   "source": [
    "s1+s2"
   ]
  },
  {
   "cell_type": "markdown",
   "id": "d720e1de",
   "metadata": {},
   "source": [
    "#### Construct 2 short sentences made of separate strings."
   ]
  },
  {
   "cell_type": "code",
   "execution_count": 27,
   "id": "6cc58b42",
   "metadata": {},
   "outputs": [],
   "source": [
    "a= 'Next week, probably,'"
   ]
  },
  {
   "cell_type": "code",
   "execution_count": 28,
   "id": "72124c81",
   "metadata": {},
   "outputs": [],
   "source": [
    "b=' I will visit Berlin'"
   ]
  },
  {
   "cell_type": "code",
   "execution_count": 29,
   "id": "7a15d8f7",
   "metadata": {},
   "outputs": [
    {
     "data": {
      "text/plain": [
       "'Next week, probably, I will visit Berlin'"
      ]
     },
     "execution_count": 29,
     "metadata": {},
     "output_type": "execute_result"
    }
   ],
   "source": [
    "a+b"
   ]
  },
  {
   "cell_type": "markdown",
   "id": "a0770da6",
   "metadata": {},
   "source": [
    "#### Include a command that makes a string appear 100 times"
   ]
  },
  {
   "cell_type": "code",
   "execution_count": 33,
   "id": "7cfce006",
   "metadata": {},
   "outputs": [
    {
     "name": "stdout",
     "output_type": "stream",
     "text": [
      "I finished!\tI finished!\tI finished!\tI finished!\tI finished!\tI finished!\tI finished!\tI finished!\tI finished!\tI finished!\tI finished!\tI finished!\tI finished!\tI finished!\tI finished!\tI finished!\tI finished!\tI finished!\tI finished!\tI finished!\tI finished!\tI finished!\tI finished!\tI finished!\tI finished!\tI finished!\tI finished!\tI finished!\tI finished!\tI finished!\tI finished!\tI finished!\tI finished!\tI finished!\tI finished!\tI finished!\tI finished!\tI finished!\tI finished!\tI finished!\tI finished!\tI finished!\tI finished!\tI finished!\tI finished!\tI finished!\tI finished!\tI finished!\tI finished!\tI finished!\tI finished!\tI finished!\tI finished!\tI finished!\tI finished!\tI finished!\tI finished!\tI finished!\tI finished!\tI finished!\tI finished!\tI finished!\tI finished!\tI finished!\tI finished!\tI finished!\tI finished!\tI finished!\tI finished!\tI finished!\tI finished!\tI finished!\tI finished!\tI finished!\tI finished!\tI finished!\tI finished!\tI finished!\tI finished!\tI finished!\tI finished!\tI finished!\tI finished!\tI finished!\tI finished!\tI finished!\tI finished!\tI finished!\tI finished!\tI finished!\tI finished!\tI finished!\tI finished!\tI finished!\tI finished!\tI finished!\tI finished!\tI finished!\tI finished!\tI finished!\t\n"
     ]
    }
   ],
   "source": [
    "expression = 'I finished!\\t'\n",
    "print(expression*100)"
   ]
  }
 ],
 "metadata": {
  "kernelspec": {
   "display_name": "Python 3 (ipykernel)",
   "language": "python",
   "name": "python3"
  },
  "language_info": {
   "codemirror_mode": {
    "name": "ipython",
    "version": 3
   },
   "file_extension": ".py",
   "mimetype": "text/x-python",
   "name": "python",
   "nbconvert_exporter": "python",
   "pygments_lexer": "ipython3",
   "version": "3.9.13"
  }
 },
 "nbformat": 4,
 "nbformat_minor": 5
}
